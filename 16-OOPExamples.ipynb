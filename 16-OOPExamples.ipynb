{
 "cells": [
  {
   "cell_type": "markdown",
   "id": "f1a6fd07",
   "metadata": {},
   "source": [
    "# inheritance"
   ]
  },
  {
   "cell_type": "code",
   "execution_count": 4,
   "id": "ff6b9c93",
   "metadata": {},
   "outputs": [],
   "source": [
    "class Musician():\n",
    "    def __init__(self,name):\n",
    "        self.name = name\n",
    "        print(\"musician class\")\n",
    "        \n",
    "    def test1(self):\n",
    "        print(\"test1\")\n",
    "        \n",
    "    def test2(self):\n",
    "        print(\"test2\")\n",
    "\n"
   ]
  },
  {
   "cell_type": "code",
   "execution_count": 5,
   "id": "88941e92",
   "metadata": {},
   "outputs": [
    {
     "name": "stdout",
     "output_type": "stream",
     "text": [
      "musician class\n"
     ]
    }
   ],
   "source": [
    "atil = Musician(\"atil\")"
   ]
  },
  {
   "cell_type": "code",
   "execution_count": 6,
   "id": "b85ebf47",
   "metadata": {},
   "outputs": [
    {
     "data": {
      "text/plain": [
       "'atil'"
      ]
     },
     "execution_count": 6,
     "metadata": {},
     "output_type": "execute_result"
    }
   ],
   "source": [
    "atil.name"
   ]
  },
  {
   "cell_type": "code",
   "execution_count": 8,
   "id": "a5c6aa14",
   "metadata": {},
   "outputs": [
    {
     "name": "stdout",
     "output_type": "stream",
     "text": [
      "test1\n"
     ]
    }
   ],
   "source": [
    "atil.test1()"
   ]
  },
  {
   "cell_type": "code",
   "execution_count": null,
   "id": "4c1f318f",
   "metadata": {},
   "outputs": [],
   "source": [
    "\n",
    "\n"
   ]
  },
  {
   "cell_type": "code",
   "execution_count": null,
   "id": "96ab37c0",
   "metadata": {},
   "outputs": [],
   "source": []
  },
  {
   "cell_type": "code",
   "execution_count": 34,
   "id": "0bd162cb",
   "metadata": {},
   "outputs": [],
   "source": [
    "class MusicianPlus(Musician): ##I've inherited Musician into MusicianPlus\n",
    "    def __init__(self,name):\n",
    "        Musician.__init__(self,name)\n",
    "        print(\"musician plus\")\n",
    "        \n",
    "    def test3(self):\n",
    "        print(\"test3\")\n",
    "    ## I've overrided the test1 on Musician\n",
    "    def test1(self):\n",
    "        print(\"test1 test1 tes1\")"
   ]
  },
  {
   "cell_type": "code",
   "execution_count": 35,
   "id": "d9b18a93",
   "metadata": {},
   "outputs": [
    {
     "name": "stdout",
     "output_type": "stream",
     "text": [
      "musician class\n",
      "musician plus\n"
     ]
    }
   ],
   "source": [
    "eymen = MusicianPlus(\"eymen\")"
   ]
  },
  {
   "cell_type": "code",
   "execution_count": 36,
   "id": "7544de6b",
   "metadata": {},
   "outputs": [
    {
     "name": "stdout",
     "output_type": "stream",
     "text": [
      "test1 test1 tes1\n"
     ]
    }
   ],
   "source": [
    "eymen.test1()"
   ]
  },
  {
   "cell_type": "code",
   "execution_count": 39,
   "id": "0409a995",
   "metadata": {},
   "outputs": [
    {
     "name": "stdout",
     "output_type": "stream",
     "text": [
      "test1\n"
     ]
    }
   ],
   "source": [
    "atil.test1()"
   ]
  },
  {
   "cell_type": "code",
   "execution_count": 37,
   "id": "1eb9599f",
   "metadata": {},
   "outputs": [
    {
     "data": {
      "text/plain": [
       "__main__.MusicianPlus"
      ]
     },
     "execution_count": 37,
     "metadata": {},
     "output_type": "execute_result"
    }
   ],
   "source": [
    "type(eymen)"
   ]
  },
  {
   "cell_type": "code",
   "execution_count": 38,
   "id": "ba75482a",
   "metadata": {},
   "outputs": [
    {
     "data": {
      "text/plain": [
       "__main__.Musician"
      ]
     },
     "execution_count": 38,
     "metadata": {},
     "output_type": "execute_result"
    }
   ],
   "source": [
    "type(atil)"
   ]
  },
  {
   "cell_type": "code",
   "execution_count": null,
   "id": "4a9c4baf",
   "metadata": {},
   "outputs": [],
   "source": []
  },
  {
   "cell_type": "markdown",
   "id": "e9b43d9b",
   "metadata": {},
   "source": [
    "# polymorphism"
   ]
  },
  {
   "cell_type": "code",
   "execution_count": 41,
   "id": "48870cd4",
   "metadata": {},
   "outputs": [],
   "source": [
    "class Banana():\n",
    "    def __init__(self,name):\n",
    "        self.name =name\n",
    "    \n",
    "    def info(self):\n",
    "        return f\"100 calorie{self.name}\"\n",
    "    \n",
    "class Apple():\n",
    "    def __init__(self,name):\n",
    "        self.name =name\n",
    "    \n",
    "    def info(self):\n",
    "        return f\"150 calorie{self.name}\""
   ]
  },
  {
   "cell_type": "markdown",
   "id": "70036b26",
   "metadata": {},
   "source": [
    "# encapsulation"
   ]
  },
  {
   "cell_type": "code",
   "execution_count": 79,
   "id": "6b1e9d1f",
   "metadata": {},
   "outputs": [],
   "source": [
    "class Phone():\n",
    "    \n",
    "    def __init__(self,name,price):\n",
    "        self.name = name;\n",
    "        self.__price = price; # with two underline makes the property only accessible from the class\n",
    "        \n",
    "    def info(self):\n",
    "        print(f\"price of {self.name} is {self.__price}\")\n",
    "        \n",
    "    def changePrice(self,price):\n",
    "        self.__price = price;"
   ]
  },
  {
   "cell_type": "code",
   "execution_count": 80,
   "id": "5b0531e8",
   "metadata": {},
   "outputs": [],
   "source": [
    "iphone = Phone(\"Iphone 14\", \"400USD\")"
   ]
  },
  {
   "cell_type": "code",
   "execution_count": 81,
   "id": "bf6ae73a",
   "metadata": {},
   "outputs": [
    {
     "name": "stdout",
     "output_type": "stream",
     "text": [
      "price of Iphone 14 is 400USD\n"
     ]
    }
   ],
   "source": [
    "iphone.info()"
   ]
  },
  {
   "cell_type": "code",
   "execution_count": 82,
   "id": "57d668df",
   "metadata": {},
   "outputs": [],
   "source": [
    "iphone.price = 100"
   ]
  },
  {
   "cell_type": "code",
   "execution_count": 83,
   "id": "43ca7cc1",
   "metadata": {},
   "outputs": [
    {
     "name": "stdout",
     "output_type": "stream",
     "text": [
      "price of Iphone 14 is 400USD\n"
     ]
    }
   ],
   "source": [
    "iphone.info() "
   ]
  },
  {
   "cell_type": "code",
   "execution_count": 84,
   "id": "4bd448ab",
   "metadata": {},
   "outputs": [],
   "source": [
    "iphone.changePrice(\"999USD\")"
   ]
  },
  {
   "cell_type": "code",
   "execution_count": 85,
   "id": "44743f97",
   "metadata": {},
   "outputs": [
    {
     "name": "stdout",
     "output_type": "stream",
     "text": [
      "price of Iphone 14 is 999USD\n"
     ]
    }
   ],
   "source": [
    "iphone.info()"
   ]
  },
  {
   "cell_type": "markdown",
   "id": "6616d5be",
   "metadata": {},
   "source": [
    "# abstraction"
   ]
  },
  {
   "cell_type": "code",
   "execution_count": 86,
   "id": "86aa1c6f",
   "metadata": {},
   "outputs": [],
   "source": [
    "from abc import ABC, abstractmethod"
   ]
  },
  {
   "cell_type": "code",
   "execution_count": 101,
   "id": "5be37bed",
   "metadata": {},
   "outputs": [],
   "source": [
    "class Car(ABC):\n",
    "    \n",
    "    @abstractmethod\n",
    "    def maxSpeed(self):\n",
    "        pass"
   ]
  },
  {
   "cell_type": "code",
   "execution_count": 102,
   "id": "822ee548",
   "metadata": {},
   "outputs": [
    {
     "ename": "TypeError",
     "evalue": "Can't instantiate abstract class Car with abstract method maxSpeed",
     "output_type": "error",
     "traceback": [
      "\u001b[1;31m---------------------------------------------------------------------------\u001b[0m",
      "\u001b[1;31mTypeError\u001b[0m                                 Traceback (most recent call last)",
      "Cell \u001b[1;32mIn[102], line 1\u001b[0m\n\u001b[1;32m----> 1\u001b[0m myCar \u001b[38;5;241m=\u001b[39m Car()\n",
      "\u001b[1;31mTypeError\u001b[0m: Can't instantiate abstract class Car with abstract method maxSpeed"
     ]
    }
   ],
   "source": [
    "myCar = Car()"
   ]
  },
  {
   "cell_type": "code",
   "execution_count": 103,
   "id": "99c78930",
   "metadata": {},
   "outputs": [],
   "source": [
    "class Tesla(Car):\n",
    "    def maxSpeed(self):\n",
    "        print(\"tesla is cool car\")"
   ]
  },
  {
   "cell_type": "code",
   "execution_count": 104,
   "id": "1c556a85",
   "metadata": {},
   "outputs": [],
   "source": [
    "tesla = Tesla()"
   ]
  },
  {
   "cell_type": "code",
   "execution_count": 105,
   "id": "0e9b6036",
   "metadata": {},
   "outputs": [
    {
     "name": "stdout",
     "output_type": "stream",
     "text": [
      "tesla is cool car\n"
     ]
    }
   ],
   "source": [
    "tesla.maxSpeed()"
   ]
  },
  {
   "cell_type": "code",
   "execution_count": null,
   "id": "acfc048f",
   "metadata": {},
   "outputs": [],
   "source": []
  }
 ],
 "metadata": {
  "kernelspec": {
   "display_name": "Python 3 (ipykernel)",
   "language": "python",
   "name": "python3"
  },
  "language_info": {
   "codemirror_mode": {
    "name": "ipython",
    "version": 3
   },
   "file_extension": ".py",
   "mimetype": "text/x-python",
   "name": "python",
   "nbconvert_exporter": "python",
   "pygments_lexer": "ipython3",
   "version": "3.11.4"
  }
 },
 "nbformat": 4,
 "nbformat_minor": 5
}
