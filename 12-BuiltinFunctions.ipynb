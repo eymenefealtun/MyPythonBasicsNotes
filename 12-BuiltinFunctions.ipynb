{
 "cells": [
  {
   "cell_type": "code",
   "execution_count": null,
   "id": "229c76c7",
   "metadata": {},
   "outputs": [],
   "source": []
  },
  {
   "cell_type": "code",
   "execution_count": 1,
   "id": "609c7192",
   "metadata": {},
   "outputs": [],
   "source": [
    "#range function"
   ]
  },
  {
   "cell_type": "code",
   "execution_count": 2,
   "id": "1a58b18e",
   "metadata": {},
   "outputs": [
    {
     "data": {
      "text/plain": [
       "range(0, 50)"
      ]
     },
     "execution_count": 2,
     "metadata": {},
     "output_type": "execute_result"
    }
   ],
   "source": [
    "range(0,50)"
   ]
  },
  {
   "cell_type": "code",
   "execution_count": 3,
   "id": "aa060e18",
   "metadata": {},
   "outputs": [
    {
     "data": {
      "text/plain": [
       "[0, 1, 2, 3, 4, 5, 6, 7, 8, 9]"
      ]
     },
     "execution_count": 3,
     "metadata": {},
     "output_type": "execute_result"
    }
   ],
   "source": [
    "list(range(0,10))"
   ]
  },
  {
   "cell_type": "code",
   "execution_count": 4,
   "id": "d7f1ea52",
   "metadata": {},
   "outputs": [
    {
     "name": "stdout",
     "output_type": "stream",
     "text": [
      "0\n",
      "2\n",
      "4\n",
      "6\n",
      "8\n",
      "10\n",
      "12\n",
      "14\n",
      "16\n",
      "18\n"
     ]
    }
   ],
   "source": [
    "for num in list(range(10)):\n",
    "    print(num*2)"
   ]
  },
  {
   "cell_type": "code",
   "execution_count": 5,
   "id": "9773c393",
   "metadata": {},
   "outputs": [
    {
     "data": {
      "text/plain": [
       "[5, 7, 9, 11, 13, 15, 17, 19, 21, 23]"
      ]
     },
     "execution_count": 5,
     "metadata": {},
     "output_type": "execute_result"
    }
   ],
   "source": [
    "list(range(5,25,2))"
   ]
  },
  {
   "cell_type": "code",
   "execution_count": 6,
   "id": "0ae56a40",
   "metadata": {},
   "outputs": [],
   "source": [
    "myList = [20,30,40,50,60]"
   ]
  },
  {
   "cell_type": "code",
   "execution_count": 7,
   "id": "576c1636",
   "metadata": {},
   "outputs": [
    {
     "name": "stdout",
     "output_type": "stream",
     "text": [
      "20\n",
      "30\n",
      "40\n",
      "50\n",
      "60\n"
     ]
    }
   ],
   "source": [
    "for num in myList:\n",
    "    print(num)"
   ]
  },
  {
   "cell_type": "code",
   "execution_count": 8,
   "id": "36d64b69",
   "metadata": {},
   "outputs": [
    {
     "name": "stdout",
     "output_type": "stream",
     "text": [
      "0 20\n",
      "1 30\n",
      "2 40\n",
      "3 50\n",
      "4 60\n"
     ]
    }
   ],
   "source": [
    "for index in range(len(myList)):  ##takes the indexes\n",
    "    print(index , myList[index] )"
   ]
  },
  {
   "cell_type": "code",
   "execution_count": null,
   "id": "39ba1545",
   "metadata": {},
   "outputs": [],
   "source": []
  },
  {
   "cell_type": "code",
   "execution_count": null,
   "id": "0c1dc6e9",
   "metadata": {},
   "outputs": [],
   "source": []
  },
  {
   "cell_type": "code",
   "execution_count": null,
   "id": "970783ff",
   "metadata": {},
   "outputs": [],
   "source": []
  },
  {
   "cell_type": "code",
   "execution_count": 9,
   "id": "4f3eb4e6",
   "metadata": {},
   "outputs": [],
   "source": [
    "#enumerate"
   ]
  },
  {
   "cell_type": "code",
   "execution_count": 10,
   "id": "811154f9",
   "metadata": {},
   "outputs": [
    {
     "name": "stdout",
     "output_type": "stream",
     "text": [
      "(0, 20)\n",
      "(1, 30)\n",
      "(2, 40)\n",
      "(3, 50)\n",
      "(4, 60)\n"
     ]
    }
   ],
   "source": [
    "for element in enumerate(myList):\n",
    "    print(element)"
   ]
  },
  {
   "cell_type": "code",
   "execution_count": 11,
   "id": "92c79cb2",
   "metadata": {},
   "outputs": [
    {
     "name": "stdout",
     "output_type": "stream",
     "text": [
      "0\n",
      "1\n",
      "2\n",
      "3\n",
      "4\n"
     ]
    }
   ],
   "source": [
    "for (index, value) in enumerate(myList):\n",
    "    print(index)"
   ]
  },
  {
   "cell_type": "code",
   "execution_count": null,
   "id": "1ce9e564",
   "metadata": {},
   "outputs": [],
   "source": []
  },
  {
   "cell_type": "code",
   "execution_count": null,
   "id": "fb487218",
   "metadata": {},
   "outputs": [],
   "source": []
  },
  {
   "cell_type": "code",
   "execution_count": 45,
   "id": "e339cd29",
   "metadata": {},
   "outputs": [],
   "source": [
    "#random"
   ]
  },
  {
   "cell_type": "code",
   "execution_count": 46,
   "id": "6556cf2a",
   "metadata": {},
   "outputs": [],
   "source": [
    "from random import randint    ## random is the library and randint is the method from that library"
   ]
  },
  {
   "cell_type": "code",
   "execution_count": 14,
   "id": "01f016c7",
   "metadata": {},
   "outputs": [
    {
     "data": {
      "text/plain": [
       "65"
      ]
     },
     "execution_count": 14,
     "metadata": {},
     "output_type": "execute_result"
    }
   ],
   "source": [
    "randint(0,100)"
   ]
  },
  {
   "cell_type": "code",
   "execution_count": 15,
   "id": "4cf13819",
   "metadata": {},
   "outputs": [
    {
     "data": {
      "text/plain": [
       "21"
      ]
     },
     "execution_count": 15,
     "metadata": {},
     "output_type": "execute_result"
    }
   ],
   "source": [
    "randint(0,100)"
   ]
  },
  {
   "cell_type": "code",
   "execution_count": 33,
   "id": "097aa5b2",
   "metadata": {},
   "outputs": [],
   "source": [
    "from random import shuffle"
   ]
  },
  {
   "cell_type": "code",
   "execution_count": 37,
   "id": "568b0fa4",
   "metadata": {},
   "outputs": [],
   "source": [
    "myList = [10,20,30,40,50,60,70]"
   ]
  },
  {
   "cell_type": "code",
   "execution_count": 42,
   "id": "6ffb4523",
   "metadata": {},
   "outputs": [],
   "source": [
    "shuffle(myList)"
   ]
  },
  {
   "cell_type": "code",
   "execution_count": 43,
   "id": "3019a8bb",
   "metadata": {},
   "outputs": [
    {
     "data": {
      "text/plain": [
       "[40, 50, 70, 10, 20, 60, 30]"
      ]
     },
     "execution_count": 43,
     "metadata": {},
     "output_type": "execute_result"
    }
   ],
   "source": [
    "myList"
   ]
  },
  {
   "cell_type": "code",
   "execution_count": null,
   "id": "b3b90e81",
   "metadata": {},
   "outputs": [],
   "source": []
  },
  {
   "cell_type": "code",
   "execution_count": null,
   "id": "40d4d8d2",
   "metadata": {},
   "outputs": [],
   "source": []
  },
  {
   "cell_type": "code",
   "execution_count": null,
   "id": "27e4afeb",
   "metadata": {},
   "outputs": [],
   "source": []
  },
  {
   "cell_type": "code",
   "execution_count": 44,
   "id": "3c5f2415",
   "metadata": {},
   "outputs": [],
   "source": [
    "#zip"
   ]
  },
  {
   "cell_type": "code",
   "execution_count": 91,
   "id": "9a55db39",
   "metadata": {},
   "outputs": [],
   "source": [
    "foodList = [\"apple\", \"banana\", \"melon\"]"
   ]
  },
  {
   "cell_type": "code",
   "execution_count": 96,
   "id": "640cc891",
   "metadata": {},
   "outputs": [],
   "source": [
    "calorieList = [100,200,150]"
   ]
  },
  {
   "cell_type": "code",
   "execution_count": 100,
   "id": "2bdc8200",
   "metadata": {},
   "outputs": [],
   "source": [
    "dayList = [\"monday\",\"tuesday\",\"wednesday\"]"
   ]
  },
  {
   "cell_type": "code",
   "execution_count": 101,
   "id": "7a98f483",
   "metadata": {},
   "outputs": [],
   "source": [
    "zippedList = zip(foodList,calorieList,dayList)"
   ]
  },
  {
   "cell_type": "code",
   "execution_count": 102,
   "id": "4063fa7d",
   "metadata": {},
   "outputs": [
    {
     "data": {
      "text/plain": [
       "[('apple', 100, 'monday'),\n",
       " ('banana', 200, 'tuesday'),\n",
       " ('melon', 150, 'wednesday')]"
      ]
     },
     "execution_count": 102,
     "metadata": {},
     "output_type": "execute_result"
    }
   ],
   "source": [
    "list(zippedList)"
   ]
  },
  {
   "cell_type": "code",
   "execution_count": 77,
   "id": "1ec003ff",
   "metadata": {},
   "outputs": [
    {
     "data": {
      "text/plain": [
       "zip"
      ]
     },
     "execution_count": 77,
     "metadata": {},
     "output_type": "execute_result"
    }
   ],
   "source": [
    "type(zippedList)"
   ]
  },
  {
   "cell_type": "code",
   "execution_count": 78,
   "id": "8f60825e",
   "metadata": {},
   "outputs": [
    {
     "data": {
      "text/plain": [
       "list"
      ]
     },
     "execution_count": 78,
     "metadata": {},
     "output_type": "execute_result"
    }
   ],
   "source": [
    "type(list(zippedList))"
   ]
  },
  {
   "cell_type": "code",
   "execution_count": null,
   "id": "3cffe364",
   "metadata": {},
   "outputs": [],
   "source": []
  },
  {
   "cell_type": "code",
   "execution_count": null,
   "id": "9e2247cb",
   "metadata": {},
   "outputs": [],
   "source": []
  },
  {
   "cell_type": "code",
   "execution_count": null,
   "id": "62b455ba",
   "metadata": {},
   "outputs": [],
   "source": []
  },
  {
   "cell_type": "code",
   "execution_count": 111,
   "id": "b0077c09",
   "metadata": {},
   "outputs": [
    {
     "name": "stdout",
     "output_type": "stream",
     "text": [
      "['m', 'e', 't', 'a', 'l', 'l', 'i', 'c', 'a']\n"
     ]
    }
   ],
   "source": [
    "newList = []\n",
    "myString = \"metallica\"\n",
    "\n",
    "for element in myString:\n",
    "    newList.append(element)\n",
    "print(newList)"
   ]
  },
  {
   "cell_type": "code",
   "execution_count": 112,
   "id": "37b58f12",
   "metadata": {},
   "outputs": [],
   "source": [
    "##list  comprehension"
   ]
  },
  {
   "cell_type": "code",
   "execution_count": 115,
   "id": "8638da6f",
   "metadata": {},
   "outputs": [],
   "source": [
    "for element in myString:\n",
    "    newList.append(element)\n",
    "\n",
    "newList = [element for element in myString] ##same as above"
   ]
  },
  {
   "cell_type": "code",
   "execution_count": 116,
   "id": "732ae45b",
   "metadata": {},
   "outputs": [
    {
     "data": {
      "text/plain": [
       "['m', 'e', 't', 'a', 'l', 'l', 'i', 'c', 'a']"
      ]
     },
     "execution_count": 116,
     "metadata": {},
     "output_type": "execute_result"
    }
   ],
   "source": [
    "newList"
   ]
  },
  {
   "cell_type": "code",
   "execution_count": 117,
   "id": "f6f873a0",
   "metadata": {},
   "outputs": [],
   "source": [
    "numberList = [10,20,30,40,50]"
   ]
  },
  {
   "cell_type": "code",
   "execution_count": 127,
   "id": "c220cebc",
   "metadata": {},
   "outputs": [],
   "source": [
    "newNumberList = [num+1 for num in numberList]"
   ]
  },
  {
   "cell_type": "code",
   "execution_count": 128,
   "id": "bc4dad18",
   "metadata": {},
   "outputs": [
    {
     "data": {
      "text/plain": [
       "[11, 21, 31, 41, 51]"
      ]
     },
     "execution_count": 128,
     "metadata": {},
     "output_type": "execute_result"
    }
   ],
   "source": [
    "newNumberList"
   ]
  },
  {
   "cell_type": "code",
   "execution_count": 152,
   "id": "5b2999eb",
   "metadata": {},
   "outputs": [],
   "source": [
    "myDictionary = {\"k1\":10,\"k2k\":\"a\",\"k32\":30,\"k4\":\"c\"}"
   ]
  },
  {
   "cell_type": "code",
   "execution_count": 153,
   "id": "f5c91884",
   "metadata": {},
   "outputs": [
    {
     "name": "stdout",
     "output_type": "stream",
     "text": [
      "here is the c\n"
     ]
    }
   ],
   "source": [
    "\n",
    "for element in myDictionary.values():\n",
    "    if(element == \"c\"):\n",
    "        print(\"here is the c\")\n",
    "        \n",
    "\n"
   ]
  },
  {
   "cell_type": "code",
   "execution_count": 154,
   "id": "94e061cb",
   "metadata": {},
   "outputs": [
    {
     "name": "stdout",
     "output_type": "stream",
     "text": [
      "here is the c\n"
     ]
    }
   ],
   "source": [
    "if \"c\" in myDictionary.values():\n",
    "    print(\"here is the c\")"
   ]
  },
  {
   "cell_type": "code",
   "execution_count": null,
   "id": "a5d36733",
   "metadata": {},
   "outputs": [],
   "source": []
  },
  {
   "cell_type": "code",
   "execution_count": null,
   "id": "4bd43ac6",
   "metadata": {},
   "outputs": [],
   "source": []
  },
  {
   "cell_type": "code",
   "execution_count": null,
   "id": "7e61cd44",
   "metadata": {},
   "outputs": [],
   "source": []
  },
  {
   "cell_type": "code",
   "execution_count": 155,
   "id": "5b664e15",
   "metadata": {},
   "outputs": [],
   "source": [
    "ageNameList = [(\"ahmet\",30),(\"ayse\",24),(\"mehmet\",40),(\"fatma\",29)]"
   ]
  },
  {
   "cell_type": "code",
   "execution_count": 157,
   "id": "43a18f93",
   "metadata": {},
   "outputs": [],
   "source": [
    "onlyAgeList = [];\n",
    "\n",
    "for element in ageNameList:\n",
    "    onlyAgeList.append(element[1])"
   ]
  },
  {
   "cell_type": "code",
   "execution_count": 158,
   "id": "50e19967",
   "metadata": {},
   "outputs": [
    {
     "data": {
      "text/plain": [
       "[30, 24, 40, 29]"
      ]
     },
     "execution_count": 158,
     "metadata": {},
     "output_type": "execute_result"
    }
   ],
   "source": [
    "onlyAgeList"
   ]
  },
  {
   "cell_type": "code",
   "execution_count": 159,
   "id": "3dbc6ea7",
   "metadata": {},
   "outputs": [],
   "source": [
    "onlyAgeList = [];\n",
    "\n",
    "for (name,age) in ageNameList:\n",
    "    onlyAgeList.append(age)"
   ]
  },
  {
   "cell_type": "code",
   "execution_count": 160,
   "id": "739728fb",
   "metadata": {},
   "outputs": [
    {
     "data": {
      "text/plain": [
       "[30, 24, 40, 29]"
      ]
     },
     "execution_count": 160,
     "metadata": {},
     "output_type": "execute_result"
    }
   ],
   "source": [
    "onlyAgeList"
   ]
  },
  {
   "cell_type": "code",
   "execution_count": null,
   "id": "3a236187",
   "metadata": {},
   "outputs": [],
   "source": []
  }
 ],
 "metadata": {
  "kernelspec": {
   "display_name": "Python 3 (ipykernel)",
   "language": "python",
   "name": "python3"
  },
  "language_info": {
   "codemirror_mode": {
    "name": "ipython",
    "version": 3
   },
   "file_extension": ".py",
   "mimetype": "text/x-python",
   "name": "python",
   "nbconvert_exporter": "python",
   "pygments_lexer": "ipython3",
   "version": "3.11.4"
  }
 },
 "nbformat": 4,
 "nbformat_minor": 5
}
