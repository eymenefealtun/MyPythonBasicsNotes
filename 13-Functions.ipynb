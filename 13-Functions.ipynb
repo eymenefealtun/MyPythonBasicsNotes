{
 "cells": [
  {
   "cell_type": "code",
   "execution_count": 1,
   "id": "26f62ea3",
   "metadata": {},
   "outputs": [],
   "source": [
    "# Functions"
   ]
  },
  {
   "cell_type": "code",
   "execution_count": 2,
   "id": "fc5c024f",
   "metadata": {},
   "outputs": [],
   "source": [
    "myName = \"eymen\""
   ]
  },
  {
   "cell_type": "code",
   "execution_count": 5,
   "id": "bad11ee8",
   "metadata": {},
   "outputs": [
    {
     "data": {
      "text/plain": [
       "'EYMEN'"
      ]
     },
     "execution_count": 5,
     "metadata": {},
     "output_type": "execute_result"
    }
   ],
   "source": [
    "myName.upper()"
   ]
  },
  {
   "cell_type": "code",
   "execution_count": 6,
   "id": "6b937974",
   "metadata": {},
   "outputs": [
    {
     "data": {
      "text/plain": [
       "'eymen'"
      ]
     },
     "execution_count": 6,
     "metadata": {},
     "output_type": "execute_result"
    }
   ],
   "source": [
    "myName"
   ]
  },
  {
   "cell_type": "code",
   "execution_count": 10,
   "id": "c4fa418e",
   "metadata": {},
   "outputs": [],
   "source": [
    "def helloPython():\n",
    "    print(\"hello Python\")"
   ]
  },
  {
   "cell_type": "code",
   "execution_count": 11,
   "id": "71bf5777",
   "metadata": {},
   "outputs": [
    {
     "name": "stdout",
     "output_type": "stream",
     "text": [
      "hello Python\n"
     ]
    }
   ],
   "source": [
    "helloPython()"
   ]
  },
  {
   "cell_type": "code",
   "execution_count": 13,
   "id": "9871bb15",
   "metadata": {},
   "outputs": [],
   "source": [
    "def helloName(name):\n",
    "    print(f\"hello {name}\")"
   ]
  },
  {
   "cell_type": "code",
   "execution_count": 18,
   "id": "abb45e1d",
   "metadata": {},
   "outputs": [
    {
     "name": "stdout",
     "output_type": "stream",
     "text": [
      "hello eymen\n"
     ]
    }
   ],
   "source": [
    "helloName(\"eymen\")"
   ]
  },
  {
   "cell_type": "code",
   "execution_count": 19,
   "id": "4bbb221c",
   "metadata": {},
   "outputs": [
    {
     "name": "stdout",
     "output_type": "stream",
     "text": [
      "hello c#\n"
     ]
    }
   ],
   "source": [
    "helloName(\"c#\")"
   ]
  },
  {
   "cell_type": "code",
   "execution_count": 36,
   "id": "e85e9aef",
   "metadata": {},
   "outputs": [],
   "source": [
    "def sumExample(number1, number2):\n",
    "    return number1+number2"
   ]
  },
  {
   "cell_type": "code",
   "execution_count": 38,
   "id": "d258dd1c",
   "metadata": {},
   "outputs": [
    {
     "data": {
      "text/plain": [
       "133"
      ]
     },
     "execution_count": 38,
     "metadata": {},
     "output_type": "execute_result"
    }
   ],
   "source": [
    "sumExample(34,99)"
   ]
  },
  {
   "cell_type": "code",
   "execution_count": 44,
   "id": "919cced0",
   "metadata": {},
   "outputs": [],
   "source": [
    "def controlString(s):\n",
    "    if s[0] == \"a\":\n",
    "        print(\"first chracter is a\")\n",
    "    else:\n",
    "        print(\"first chracter is NOT a\")"
   ]
  },
  {
   "cell_type": "code",
   "execution_count": 45,
   "id": "cd649b20",
   "metadata": {},
   "outputs": [
    {
     "name": "stdout",
     "output_type": "stream",
     "text": [
      "first chracter is NOT a\n"
     ]
    }
   ],
   "source": [
    "controlString(\"badana\")"
   ]
  },
  {
   "cell_type": "code",
   "execution_count": 46,
   "id": "faeff4f6",
   "metadata": {},
   "outputs": [
    {
     "name": "stdout",
     "output_type": "stream",
     "text": [
      "first chracter is a\n"
     ]
    }
   ],
   "source": [
    "controlString(\"adana\")"
   ]
  },
  {
   "cell_type": "code",
   "execution_count": null,
   "id": "77eec702",
   "metadata": {},
   "outputs": [],
   "source": []
  },
  {
   "cell_type": "code",
   "execution_count": null,
   "id": "1a7ae0a7",
   "metadata": {},
   "outputs": [],
   "source": []
  },
  {
   "cell_type": "code",
   "execution_count": 47,
   "id": "1c6eae62",
   "metadata": {},
   "outputs": [],
   "source": [
    "## args , kwargs   (arguments , key word arguments)"
   ]
  },
  {
   "cell_type": "code",
   "execution_count": 49,
   "id": "1973b484",
   "metadata": {},
   "outputs": [],
   "source": [
    "def argSum(*args): \n",
    "    return sum(args)"
   ]
  },
  {
   "cell_type": "code",
   "execution_count": 50,
   "id": "a65a8500",
   "metadata": {},
   "outputs": [
    {
     "data": {
      "text/plain": [
       "433"
      ]
     },
     "execution_count": 50,
     "metadata": {},
     "output_type": "execute_result"
    }
   ],
   "source": [
    "argSum(100,300,33)"
   ]
  },
  {
   "cell_type": "code",
   "execution_count": 51,
   "id": "a4939b69",
   "metadata": {},
   "outputs": [],
   "source": [
    "def argExample(*args):\n",
    "    print(args)"
   ]
  },
  {
   "cell_type": "code",
   "execution_count": 52,
   "id": "ef3d0730",
   "metadata": {},
   "outputs": [
    {
     "name": "stdout",
     "output_type": "stream",
     "text": [
      "(123, 323, 5342, 12313, 895)\n"
     ]
    }
   ],
   "source": [
    "argExample(123,323,5342,12313,895)"
   ]
  },
  {
   "cell_type": "code",
   "execution_count": null,
   "id": "8993f024",
   "metadata": {},
   "outputs": [],
   "source": []
  },
  {
   "cell_type": "code",
   "execution_count": null,
   "id": "d8eb3a94",
   "metadata": {},
   "outputs": [],
   "source": []
  },
  {
   "cell_type": "code",
   "execution_count": 55,
   "id": "0bfc5d0c",
   "metadata": {},
   "outputs": [],
   "source": [
    "def kwargExample(**kwargs): # creates a dictionary\n",
    "    print(kwargs)"
   ]
  },
  {
   "cell_type": "code",
   "execution_count": 56,
   "id": "d5d818e3",
   "metadata": {},
   "outputs": [
    {
     "name": "stdout",
     "output_type": "stream",
     "text": [
      "{'apple': 100, 'banana': 200, 'melon': 200}\n"
     ]
    }
   ],
   "source": [
    "kwargExample(apple= 100, banana = 200, melon = 200)"
   ]
  },
  {
   "cell_type": "code",
   "execution_count": 81,
   "id": "da4c3efe",
   "metadata": {},
   "outputs": [],
   "source": [
    "def kwargAnotherExample(**kwargs): # creates a dictionary\n",
    "    if(\"apple\" in kwargs.keys()):\n",
    "        print(\"here is the apple\")"
   ]
  },
  {
   "cell_type": "code",
   "execution_count": 82,
   "id": "519552b9",
   "metadata": {},
   "outputs": [
    {
     "name": "stdout",
     "output_type": "stream",
     "text": [
      "here is the apple\n"
     ]
    }
   ],
   "source": [
    "kwargAnotherExample(apple= 100, banana = 200, melon = 200)"
   ]
  },
  {
   "cell_type": "code",
   "execution_count": null,
   "id": "f8f410bf",
   "metadata": {},
   "outputs": [],
   "source": []
  }
 ],
 "metadata": {
  "kernelspec": {
   "display_name": "Python 3 (ipykernel)",
   "language": "python",
   "name": "python3"
  },
  "language_info": {
   "codemirror_mode": {
    "name": "ipython",
    "version": 3
   },
   "file_extension": ".py",
   "mimetype": "text/x-python",
   "name": "python",
   "nbconvert_exporter": "python",
   "pygments_lexer": "ipython3",
   "version": "3.11.4"
  }
 },
 "nbformat": 4,
 "nbformat_minor": 5
}
