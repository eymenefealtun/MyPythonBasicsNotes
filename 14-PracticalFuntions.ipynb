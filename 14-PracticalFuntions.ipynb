{
 "cells": [
  {
   "cell_type": "code",
   "execution_count": 1,
   "id": "83afb1af",
   "metadata": {},
   "outputs": [],
   "source": [
    "def divideNumber(number):\n",
    "    return number/2"
   ]
  },
  {
   "cell_type": "code",
   "execution_count": 2,
   "id": "f3f46d62",
   "metadata": {},
   "outputs": [
    {
     "data": {
      "text/plain": [
       "18.0"
      ]
     },
     "execution_count": 2,
     "metadata": {},
     "output_type": "execute_result"
    }
   ],
   "source": [
    "divideNumber(36)"
   ]
  },
  {
   "cell_type": "code",
   "execution_count": 3,
   "id": "a6c253db",
   "metadata": {},
   "outputs": [],
   "source": [
    "myList = [10,20,30,40,50]"
   ]
  },
  {
   "cell_type": "code",
   "execution_count": 4,
   "id": "24def470",
   "metadata": {},
   "outputs": [],
   "source": [
    "resultList = []\n",
    "for number in myList:\n",
    "    resultList.append(divideNumber(number))"
   ]
  },
  {
   "cell_type": "code",
   "execution_count": 7,
   "id": "efd97131",
   "metadata": {},
   "outputs": [
    {
     "data": {
      "text/plain": [
       "[5.0, 10.0, 15.0, 20.0, 25.0]"
      ]
     },
     "execution_count": 7,
     "metadata": {},
     "output_type": "execute_result"
    }
   ],
   "source": [
    "resultList"
   ]
  },
  {
   "cell_type": "markdown",
   "id": "9389383c",
   "metadata": {},
   "source": [
    "# map"
   ]
  },
  {
   "cell_type": "code",
   "execution_count": 8,
   "id": "8ddb00c5",
   "metadata": {},
   "outputs": [
    {
     "name": "stdout",
     "output_type": "stream",
     "text": [
      "Help on class map in module builtins:\n",
      "\n",
      "class map(object)\n",
      " |  map(func, *iterables) --> map object\n",
      " |  \n",
      " |  Make an iterator that computes the function using arguments from\n",
      " |  each of the iterables.  Stops when the shortest iterable is exhausted.\n",
      " |  \n",
      " |  Methods defined here:\n",
      " |  \n",
      " |  __getattribute__(self, name, /)\n",
      " |      Return getattr(self, name).\n",
      " |  \n",
      " |  __iter__(self, /)\n",
      " |      Implement iter(self).\n",
      " |  \n",
      " |  __next__(self, /)\n",
      " |      Implement next(self).\n",
      " |  \n",
      " |  __reduce__(...)\n",
      " |      Return state information for pickling.\n",
      " |  \n",
      " |  ----------------------------------------------------------------------\n",
      " |  Static methods defined here:\n",
      " |  \n",
      " |  __new__(*args, **kwargs) from builtins.type\n",
      " |      Create and return a new object.  See help(type) for accurate signature.\n",
      "\n"
     ]
    }
   ],
   "source": [
    "help(map)"
   ]
  },
  {
   "cell_type": "code",
   "execution_count": 17,
   "id": "d41b2c10",
   "metadata": {},
   "outputs": [
    {
     "data": {
      "text/plain": [
       "<map at 0x24e0b774370>"
      ]
     },
     "execution_count": 17,
     "metadata": {},
     "output_type": "execute_result"
    }
   ],
   "source": [
    "myAnotherList = [10,20,30,40,50]\n",
    "map(divideNumber,myAnotherList)"
   ]
  },
  {
   "cell_type": "code",
   "execution_count": 19,
   "id": "14e21fa7",
   "metadata": {},
   "outputs": [
    {
     "data": {
      "text/plain": [
       "[5.0, 10.0, 15.0, 20.0, 25.0]"
      ]
     },
     "execution_count": 19,
     "metadata": {},
     "output_type": "execute_result"
    }
   ],
   "source": [
    "list(map(divideNumber,myAnotherList))"
   ]
  },
  {
   "cell_type": "code",
   "execution_count": 22,
   "id": "6e958d64",
   "metadata": {},
   "outputs": [],
   "source": [
    "def controlString(string):\n",
    "    return \"eymen\" in string;"
   ]
  },
  {
   "cell_type": "code",
   "execution_count": 26,
   "id": "5bc217c4",
   "metadata": {},
   "outputs": [
    {
     "data": {
      "text/plain": [
       "True"
      ]
     },
     "execution_count": 26,
     "metadata": {},
     "output_type": "execute_result"
    }
   ],
   "source": [
    "controlString(\"eymen efe \") "
   ]
  },
  {
   "cell_type": "code",
   "execution_count": 30,
   "id": "d313a9f6",
   "metadata": {},
   "outputs": [],
   "source": [
    "myStringList = [\"eymen\" ,\"efe\", \"altun\",\"beyza\", \"eymen tarot clera\"]"
   ]
  },
  {
   "cell_type": "code",
   "execution_count": 31,
   "id": "bffa2a62",
   "metadata": {},
   "outputs": [
    {
     "data": {
      "text/plain": [
       "[True, False, False, False, True]"
      ]
     },
     "execution_count": 31,
     "metadata": {},
     "output_type": "execute_result"
    }
   ],
   "source": [
    "list(map(controlString,myStringList))"
   ]
  },
  {
   "cell_type": "markdown",
   "id": "8c804a75",
   "metadata": {},
   "source": [
    "# filter"
   ]
  },
  {
   "cell_type": "code",
   "execution_count": 32,
   "id": "bb247099",
   "metadata": {},
   "outputs": [
    {
     "data": {
      "text/plain": [
       "['eymen', 'eymen tarot clera']"
      ]
     },
     "execution_count": 32,
     "metadata": {},
     "output_type": "execute_result"
    }
   ],
   "source": [
    "list(filter(controlString,myStringList))"
   ]
  },
  {
   "cell_type": "markdown",
   "id": "92bff90b",
   "metadata": {},
   "source": [
    "# lambda"
   ]
  },
  {
   "cell_type": "code",
   "execution_count": 34,
   "id": "932132e2",
   "metadata": {},
   "outputs": [],
   "source": [
    "multiplyLambda = lambda num: num * 3;   ##anonymous functions"
   ]
  },
  {
   "cell_type": "code",
   "execution_count": 35,
   "id": "780c5aa7",
   "metadata": {},
   "outputs": [
    {
     "data": {
      "text/plain": [
       "12"
      ]
     },
     "execution_count": 35,
     "metadata": {},
     "output_type": "execute_result"
    }
   ],
   "source": [
    "multiplyLambda(4)"
   ]
  },
  {
   "cell_type": "code",
   "execution_count": 36,
   "id": "b38bb519",
   "metadata": {},
   "outputs": [
    {
     "data": {
      "text/plain": [
       "function"
      ]
     },
     "execution_count": 36,
     "metadata": {},
     "output_type": "execute_result"
    }
   ],
   "source": [
    "type(multiplyLambda)"
   ]
  },
  {
   "cell_type": "code",
   "execution_count": 37,
   "id": "cfe51f77",
   "metadata": {},
   "outputs": [],
   "source": [
    "numlist = [10,20,30,40,50]"
   ]
  },
  {
   "cell_type": "code",
   "execution_count": 39,
   "id": "a4d79cfc",
   "metadata": {},
   "outputs": [
    {
     "data": {
      "text/plain": [
       "[2.5, 5.0, 7.5, 10.0, 12.5]"
      ]
     },
     "execution_count": 39,
     "metadata": {},
     "output_type": "execute_result"
    }
   ],
   "source": [
    "list(map(lambda num:num/4, numlist))"
   ]
  },
  {
   "cell_type": "markdown",
   "id": "e2b05ba9",
   "metadata": {},
   "source": [
    "## Scope"
   ]
  },
  {
   "cell_type": "code",
   "execution_count": 50,
   "id": "6760e1e9",
   "metadata": {},
   "outputs": [],
   "source": [
    "x = 20\n",
    "\n",
    "def multiply(num):\n",
    "    x= 5\n",
    "    return num * x"
   ]
  },
  {
   "cell_type": "code",
   "execution_count": 51,
   "id": "af17bbb5",
   "metadata": {},
   "outputs": [
    {
     "data": {
      "text/plain": [
       "5"
      ]
     },
     "execution_count": 51,
     "metadata": {},
     "output_type": "execute_result"
    }
   ],
   "source": [
    "multiply(1)"
   ]
  },
  {
   "cell_type": "code",
   "execution_count": 52,
   "id": "3369095d",
   "metadata": {},
   "outputs": [
    {
     "data": {
      "text/plain": [
       "20"
      ]
     },
     "execution_count": 52,
     "metadata": {},
     "output_type": "execute_result"
    }
   ],
   "source": [
    "x   ## x itself did not change after I've set different value inside of the method"
   ]
  },
  {
   "cell_type": "code",
   "execution_count": 53,
   "id": "0b19c6bc",
   "metadata": {},
   "outputs": [],
   "source": [
    "x = 20\n",
    "\n",
    "def multiply(num):\n",
    "    return num * x"
   ]
  },
  {
   "cell_type": "code",
   "execution_count": 54,
   "id": "85dd2eea",
   "metadata": {},
   "outputs": [
    {
     "data": {
      "text/plain": [
       "20"
      ]
     },
     "execution_count": 54,
     "metadata": {},
     "output_type": "execute_result"
    }
   ],
   "source": [
    "multiply(1)"
   ]
  },
  {
   "cell_type": "markdown",
   "id": "5d816b09",
   "metadata": {},
   "source": [
    "# LEGB : LOCAL -> ENCLOSING -> GLOBAL -> BUILT-IN (priority order)"
   ]
  },
  {
   "cell_type": "code",
   "execution_count": 80,
   "id": "a6824b37",
   "metadata": {},
   "outputs": [],
   "source": [
    "#global\n",
    "myString =\"eymen\"\n",
    "\n",
    "def myFunction():\n",
    "    #enclosing\n",
    "    myString=\"eymen2\"\n",
    "    print(myString)\n",
    "    def myFunction2():\n",
    "        #local\n",
    "        myString= \"eymen3\"\n",
    "        print(myString)\n",
    "    \n",
    "    myFunction2() "
   ]
  },
  {
   "cell_type": "code",
   "execution_count": 81,
   "id": "0a838dad",
   "metadata": {},
   "outputs": [
    {
     "name": "stdout",
     "output_type": "stream",
     "text": [
      "eymen2\n",
      "eymen3\n"
     ]
    }
   ],
   "source": [
    "myFunction()"
   ]
  },
  {
   "cell_type": "code",
   "execution_count": 82,
   "id": "474b05eb",
   "metadata": {},
   "outputs": [
    {
     "data": {
      "text/plain": [
       "'eymen'"
      ]
     },
     "execution_count": 82,
     "metadata": {},
     "output_type": "execute_result"
    }
   ],
   "source": [
    "myString"
   ]
  },
  {
   "cell_type": "code",
   "execution_count": null,
   "id": "e82db262",
   "metadata": {},
   "outputs": [],
   "source": []
  },
  {
   "cell_type": "code",
   "execution_count": 85,
   "id": "6c17c39d",
   "metadata": {},
   "outputs": [],
   "source": [
    "a = 10\n",
    "\n",
    "def newFunc(a):\n",
    "    print(a)\n",
    "    a = 5\n",
    "    print(a)\n",
    "    return a"
   ]
  },
  {
   "cell_type": "code",
   "execution_count": 86,
   "id": "ab9617a7",
   "metadata": {},
   "outputs": [
    {
     "name": "stdout",
     "output_type": "stream",
     "text": [
      "999\n",
      "5\n"
     ]
    },
    {
     "data": {
      "text/plain": [
       "5"
      ]
     },
     "execution_count": 86,
     "metadata": {},
     "output_type": "execute_result"
    }
   ],
   "source": [
    "newFunc(999)"
   ]
  },
  {
   "cell_type": "code",
   "execution_count": 87,
   "id": "94d988c9",
   "metadata": {},
   "outputs": [
    {
     "data": {
      "text/plain": [
       "10"
      ]
     },
     "execution_count": 87,
     "metadata": {},
     "output_type": "execute_result"
    }
   ],
   "source": [
    "a"
   ]
  },
  {
   "cell_type": "code",
   "execution_count": null,
   "id": "9340851b",
   "metadata": {},
   "outputs": [],
   "source": []
  },
  {
   "cell_type": "code",
   "execution_count": 98,
   "id": "70305757",
   "metadata": {},
   "outputs": [],
   "source": [
    "b = 10\n",
    "\n",
    "def changeB():\n",
    "    global b \n",
    "    b=23"
   ]
  },
  {
   "cell_type": "code",
   "execution_count": 99,
   "id": "14b81847",
   "metadata": {},
   "outputs": [],
   "source": [
    "changeB()"
   ]
  },
  {
   "cell_type": "code",
   "execution_count": 100,
   "id": "e94911fe",
   "metadata": {},
   "outputs": [
    {
     "data": {
      "text/plain": [
       "23"
      ]
     },
     "execution_count": 100,
     "metadata": {},
     "output_type": "execute_result"
    }
   ],
   "source": [
    "b"
   ]
  },
  {
   "cell_type": "code",
   "execution_count": null,
   "id": "98b4fd58",
   "metadata": {},
   "outputs": [],
   "source": []
  }
 ],
 "metadata": {
  "kernelspec": {
   "display_name": "Python 3 (ipykernel)",
   "language": "python",
   "name": "python3"
  },
  "language_info": {
   "codemirror_mode": {
    "name": "ipython",
    "version": 3
   },
   "file_extension": ".py",
   "mimetype": "text/x-python",
   "name": "python",
   "nbconvert_exporter": "python",
   "pygments_lexer": "ipython3",
   "version": "3.11.4"
  }
 },
 "nbformat": 4,
 "nbformat_minor": 5
}
