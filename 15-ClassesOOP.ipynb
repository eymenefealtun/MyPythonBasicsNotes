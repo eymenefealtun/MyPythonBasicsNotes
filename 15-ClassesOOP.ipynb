{
 "cells": [
  {
   "cell_type": "code",
   "execution_count": 125,
   "id": "457b91ed",
   "metadata": {},
   "outputs": [],
   "source": [
    "class Person():\n",
    "    #name = \"\"\n",
    "    #age = 0\n",
    "    #gender=\"\"\n",
    "    job = \"developer\"\n",
    "    \n",
    "    # this is method and called initializer ##constructor in c#\n",
    "    def __init__(self, name, age, gender): #if we're creating a method inside of the class there must be a paramater called 'self'\n",
    "        self.age = age\n",
    "        self.name = name\n",
    "        self.gender = gender\n",
    "        print(\"init executed\")\n",
    "        \n",
    "    def printName(self):\n",
    "        print(self.name)\n",
    "          "
   ]
  },
  {
   "cell_type": "code",
   "execution_count": 126,
   "id": "f2f3c849",
   "metadata": {},
   "outputs": [
    {
     "name": "stdout",
     "output_type": "stream",
     "text": [
      "init executed\n"
     ]
    }
   ],
   "source": [
    "eymen = Person(\"eymen\",20,\"male\")"
   ]
  },
  {
   "cell_type": "code",
   "execution_count": 127,
   "id": "0b5e99eb",
   "metadata": {},
   "outputs": [
    {
     "data": {
      "text/plain": [
       "__main__.Person"
      ]
     },
     "execution_count": 127,
     "metadata": {},
     "output_type": "execute_result"
    }
   ],
   "source": [
    "type(eymen)"
   ]
  },
  {
   "cell_type": "code",
   "execution_count": 128,
   "id": "d932fab8",
   "metadata": {},
   "outputs": [
    {
     "data": {
      "text/plain": [
       "'eymen'"
      ]
     },
     "execution_count": 128,
     "metadata": {},
     "output_type": "execute_result"
    }
   ],
   "source": [
    "eymen.name"
   ]
  },
  {
   "cell_type": "code",
   "execution_count": 129,
   "id": "d0d967eb",
   "metadata": {},
   "outputs": [],
   "source": [
    "eymen.age = 43"
   ]
  },
  {
   "cell_type": "code",
   "execution_count": 130,
   "id": "9b44be8b",
   "metadata": {},
   "outputs": [
    {
     "data": {
      "text/plain": [
       "43"
      ]
     },
     "execution_count": 130,
     "metadata": {},
     "output_type": "execute_result"
    }
   ],
   "source": [
    "eymen.age"
   ]
  },
  {
   "cell_type": "code",
   "execution_count": 131,
   "id": "87abbed4",
   "metadata": {},
   "outputs": [
    {
     "name": "stdout",
     "output_type": "stream",
     "text": [
      "init executed\n"
     ]
    }
   ],
   "source": [
    "atlas = Person(\"atlas\",22,\"male\")"
   ]
  },
  {
   "cell_type": "code",
   "execution_count": 132,
   "id": "b31f8fed",
   "metadata": {},
   "outputs": [
    {
     "data": {
      "text/plain": [
       "'atlas'"
      ]
     },
     "execution_count": 132,
     "metadata": {},
     "output_type": "execute_result"
    }
   ],
   "source": [
    "atlas.name"
   ]
  },
  {
   "cell_type": "code",
   "execution_count": 133,
   "id": "6b9e5f90",
   "metadata": {},
   "outputs": [
    {
     "name": "stdout",
     "output_type": "stream",
     "text": [
      "atlas\n"
     ]
    }
   ],
   "source": [
    "atlas.printName()"
   ]
  },
  {
   "cell_type": "code",
   "execution_count": 134,
   "id": "718b0200",
   "metadata": {},
   "outputs": [
    {
     "data": {
      "text/plain": [
       "'developer'"
      ]
     },
     "execution_count": 134,
     "metadata": {},
     "output_type": "execute_result"
    }
   ],
   "source": [
    "eymen.job"
   ]
  },
  {
   "cell_type": "code",
   "execution_count": null,
   "id": "53b3ba61",
   "metadata": {},
   "outputs": [],
   "source": []
  },
  {
   "cell_type": "code",
   "execution_count": null,
   "id": "df56dc24",
   "metadata": {},
   "outputs": [],
   "source": []
  },
  {
   "cell_type": "code",
   "execution_count": null,
   "id": "b67098b0",
   "metadata": {},
   "outputs": [],
   "source": []
  },
  {
   "cell_type": "code",
   "execution_count": null,
   "id": "e3efb839",
   "metadata": {},
   "outputs": [],
   "source": []
  },
  {
   "cell_type": "code",
   "execution_count": 182,
   "id": "139e1468",
   "metadata": {},
   "outputs": [],
   "source": [
    "class Dog():\n",
    "    \n",
    "    year = 7\n",
    "    \n",
    "    def __init__(self,age = 34):\n",
    "        self.age = age\n",
    "        self .humanAge = age * self.year ## or you can write Dog.year\n",
    "        "
   ]
  },
  {
   "cell_type": "code",
   "execution_count": 183,
   "id": "838afa02",
   "metadata": {},
   "outputs": [],
   "source": [
    "myDog =Dog(2)"
   ]
  },
  {
   "cell_type": "code",
   "execution_count": 184,
   "id": "09e85a1a",
   "metadata": {},
   "outputs": [
    {
     "data": {
      "text/plain": [
       "2"
      ]
     },
     "execution_count": 184,
     "metadata": {},
     "output_type": "execute_result"
    }
   ],
   "source": [
    "myDog.age"
   ]
  },
  {
   "cell_type": "code",
   "execution_count": 185,
   "id": "8cfb5284",
   "metadata": {},
   "outputs": [
    {
     "data": {
      "text/plain": [
       "14"
      ]
     },
     "execution_count": 185,
     "metadata": {},
     "output_type": "execute_result"
    }
   ],
   "source": [
    "myDog.humanAge"
   ]
  },
  {
   "cell_type": "code",
   "execution_count": 187,
   "id": "9e2c888c",
   "metadata": {},
   "outputs": [],
   "source": [
    "barney = Dog()"
   ]
  },
  {
   "cell_type": "code",
   "execution_count": 189,
   "id": "52d8c206",
   "metadata": {},
   "outputs": [
    {
     "data": {
      "text/plain": [
       "34"
      ]
     },
     "execution_count": 189,
     "metadata": {},
     "output_type": "execute_result"
    }
   ],
   "source": [
    "barney.age\n"
   ]
  },
  {
   "cell_type": "code",
   "execution_count": 190,
   "id": "1c9b29d8",
   "metadata": {},
   "outputs": [
    {
     "data": {
      "text/plain": [
       "238"
      ]
     },
     "execution_count": 190,
     "metadata": {},
     "output_type": "execute_result"
    }
   ],
   "source": [
    "barney.humanAge"
   ]
  },
  {
   "cell_type": "code",
   "execution_count": null,
   "id": "e4ea278c",
   "metadata": {},
   "outputs": [],
   "source": []
  }
 ],
 "metadata": {
  "kernelspec": {
   "display_name": "Python 3 (ipykernel)",
   "language": "python",
   "name": "python3"
  },
  "language_info": {
   "codemirror_mode": {
    "name": "ipython",
    "version": 3
   },
   "file_extension": ".py",
   "mimetype": "text/x-python",
   "name": "python",
   "nbconvert_exporter": "python",
   "pygments_lexer": "ipython3",
   "version": "3.11.4"
  }
 },
 "nbformat": 4,
 "nbformat_minor": 5
}
