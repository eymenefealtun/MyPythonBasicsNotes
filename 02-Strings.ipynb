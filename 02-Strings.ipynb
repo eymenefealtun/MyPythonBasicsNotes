{
 "cells": [
  {
   "cell_type": "code",
   "execution_count": 1,
   "id": "4f077492",
   "metadata": {},
   "outputs": [
    {
     "data": {
      "text/plain": [
       "'hello world'"
      ]
     },
     "execution_count": 1,
     "metadata": {},
     "output_type": "execute_result"
    }
   ],
   "source": [
    "\"hello world\""
   ]
  },
  {
   "cell_type": "code",
   "execution_count": 2,
   "id": "529ca702",
   "metadata": {},
   "outputs": [
    {
     "name": "stdout",
     "output_type": "stream",
     "text": [
      "hello\n"
     ]
    }
   ],
   "source": [
    "print(\"hello\")"
   ]
  },
  {
   "cell_type": "code",
   "execution_count": 3,
   "id": "01ab17a4",
   "metadata": {},
   "outputs": [],
   "source": [
    "name = \"eymen\""
   ]
  },
  {
   "cell_type": "code",
   "execution_count": 4,
   "id": "4af0a651",
   "metadata": {},
   "outputs": [
    {
     "data": {
      "text/plain": [
       "str"
      ]
     },
     "execution_count": 4,
     "metadata": {},
     "output_type": "execute_result"
    }
   ],
   "source": [
    "type(name)"
   ]
  },
  {
   "cell_type": "code",
   "execution_count": 5,
   "id": "ef26c8ce",
   "metadata": {},
   "outputs": [
    {
     "data": {
      "text/plain": [
       "'eymen efe altun'"
      ]
     },
     "execution_count": 5,
     "metadata": {},
     "output_type": "execute_result"
    }
   ],
   "source": [
    "'eymen efe altun'"
   ]
  },
  {
   "cell_type": "code",
   "execution_count": 6,
   "id": "5f3f9cba",
   "metadata": {},
   "outputs": [
    {
     "name": "stdout",
     "output_type": "stream",
     "text": [
      "eymen efe altnu\n"
     ]
    }
   ],
   "source": [
    "print('eymen efe altnu')"
   ]
  },
  {
   "cell_type": "code",
   "execution_count": 7,
   "id": "7fa8d846",
   "metadata": {},
   "outputs": [
    {
     "data": {
      "text/plain": [
       "\"eymen's\""
      ]
     },
     "execution_count": 7,
     "metadata": {},
     "output_type": "execute_result"
    }
   ],
   "source": [
    "'eymen\\'s'"
   ]
  },
  {
   "cell_type": "code",
   "execution_count": 8,
   "id": "9410d489",
   "metadata": {},
   "outputs": [
    {
     "data": {
      "text/plain": [
       "'eymen'"
      ]
     },
     "execution_count": 8,
     "metadata": {},
     "output_type": "execute_result"
    }
   ],
   "source": [
    " name\n",
    "    "
   ]
  },
  {
   "cell_type": "code",
   "execution_count": 9,
   "id": "612d752e",
   "metadata": {},
   "outputs": [],
   "source": [
    "name = \"eymen efe altun\"\n"
   ]
  },
  {
   "cell_type": "code",
   "execution_count": 10,
   "id": "f7dc680d",
   "metadata": {},
   "outputs": [
    {
     "data": {
      "text/plain": [
       "'eymen efe altun'"
      ]
     },
     "execution_count": 10,
     "metadata": {},
     "output_type": "execute_result"
    }
   ],
   "source": [
    "name"
   ]
  },
  {
   "cell_type": "code",
   "execution_count": 11,
   "id": "b025ed3f",
   "metadata": {},
   "outputs": [
    {
     "data": {
      "text/plain": [
       "'eymen efe altun'"
      ]
     },
     "execution_count": 11,
     "metadata": {},
     "output_type": "execute_result"
    }
   ],
   "source": [
    "name"
   ]
  },
  {
   "cell_type": "code",
   "execution_count": null,
   "id": "afe635bf",
   "metadata": {
    "scrolled": true
   },
   "outputs": [],
   "source": []
  },
  {
   "cell_type": "code",
   "execution_count": null,
   "id": "a82f5e95",
   "metadata": {},
   "outputs": [],
   "source": [
    "name = name.capitalize"
   ]
  },
  {
   "cell_type": "code",
   "execution_count": null,
   "id": "849b9109",
   "metadata": {},
   "outputs": [],
   "source": [
    "name = \"eymen efe altun\""
   ]
  },
  {
   "cell_type": "code",
   "execution_count": null,
   "id": "b247532e",
   "metadata": {},
   "outputs": [],
   "source": [
    "name.capitalize()"
   ]
  },
  {
   "cell_type": "code",
   "execution_count": null,
   "id": "918687c3",
   "metadata": {},
   "outputs": [],
   "source": [
    "x = 10"
   ]
  },
  {
   "cell_type": "code",
   "execution_count": null,
   "id": "3391aae9",
   "metadata": {},
   "outputs": [],
   "source": [
    "x.to_bytes()\n"
   ]
  },
  {
   "cell_type": "markdown",
   "id": "c3cfe5d3",
   "metadata": {},
   "source": [
    "d.d"
   ]
  },
  {
   "cell_type": "code",
   "execution_count": null,
   "id": "bfbff118",
   "metadata": {},
   "outputs": [],
   "source": [
    "d.d"
   ]
  },
  {
   "cell_type": "code",
   "execution_count": null,
   "id": "1aa72215",
   "metadata": {},
   "outputs": [],
   "source": [
    "D.D"
   ]
  },
  {
   "cell_type": "code",
   "execution_count": 13,
   "id": "f13fb97e",
   "metadata": {},
   "outputs": [
    {
     "data": {
      "text/plain": [
       "'eymen efe altun'"
      ]
     },
     "execution_count": 13,
     "metadata": {},
     "output_type": "execute_result"
    }
   ],
   "source": [
    "name"
   ]
  },
  {
   "cell_type": "code",
   "execution_count": 14,
   "id": "b623bb30",
   "metadata": {},
   "outputs": [
    {
     "ename": "TypeError",
     "evalue": "count() takes at least 1 argument (0 given)",
     "output_type": "error",
     "traceback": [
      "\u001b[1;31m---------------------------------------------------------------------------\u001b[0m",
      "\u001b[1;31mTypeError\u001b[0m                                 Traceback (most recent call last)",
      "Cell \u001b[1;32mIn[14], line 1\u001b[0m\n\u001b[1;32m----> 1\u001b[0m name\u001b[38;5;241m.\u001b[39mcount()\n",
      "\u001b[1;31mTypeError\u001b[0m: count() takes at least 1 argument (0 given)"
     ]
    }
   ],
   "source": [
    "name.count()"
   ]
  },
  {
   "cell_type": "code",
   "execution_count": 16,
   "id": "b6a92c59",
   "metadata": {},
   "outputs": [
    {
     "ename": "TypeError",
     "evalue": "count() takes at least 1 argument (0 given)",
     "output_type": "error",
     "traceback": [
      "\u001b[1;31m---------------------------------------------------------------------------\u001b[0m",
      "\u001b[1;31mTypeError\u001b[0m                                 Traceback (most recent call last)",
      "Cell \u001b[1;32mIn[16], line 1\u001b[0m\n\u001b[1;32m----> 1\u001b[0m name\u001b[38;5;241m.\u001b[39mcount()\n",
      "\u001b[1;31mTypeError\u001b[0m: count() takes at least 1 argument (0 given)"
     ]
    }
   ],
   "source": [
    "name.count()"
   ]
  },
  {
   "cell_type": "code",
   "execution_count": 17,
   "id": "d99145bd",
   "metadata": {},
   "outputs": [
    {
     "ename": "NameError",
     "evalue": "name 'count' is not defined",
     "output_type": "error",
     "traceback": [
      "\u001b[1;31m---------------------------------------------------------------------------\u001b[0m",
      "\u001b[1;31mNameError\u001b[0m                                 Traceback (most recent call last)",
      "Cell \u001b[1;32mIn[17], line 1\u001b[0m\n\u001b[1;32m----> 1\u001b[0m count(name)\n",
      "\u001b[1;31mNameError\u001b[0m: name 'count' is not defined"
     ]
    }
   ],
   "source": [
    "count(name)"
   ]
  },
  {
   "cell_type": "code",
   "execution_count": 18,
   "id": "8ec7cc47",
   "metadata": {},
   "outputs": [
    {
     "name": "stdout",
     "output_type": "stream",
     "text": [
      "Help on built-in function count:\n",
      "\n",
      "count(...) method of builtins.str instance\n",
      "    S.count(sub[, start[, end]]) -> int\n",
      "    \n",
      "    Return the number of non-overlapping occurrences of substring sub in\n",
      "    string S[start:end].  Optional arguments start and end are\n",
      "    interpreted as in slice notation.\n",
      "\n"
     ]
    }
   ],
   "source": [
    "help(name.count)"
   ]
  },
  {
   "cell_type": "code",
   "execution_count": 20,
   "id": "39f415bf",
   "metadata": {},
   "outputs": [
    {
     "data": {
      "text/plain": [
       "4"
      ]
     },
     "execution_count": 20,
     "metadata": {},
     "output_type": "execute_result"
    }
   ],
   "source": [
    "name.count(\"e\")"
   ]
  },
  {
   "cell_type": "markdown",
   "id": "e0bf44ce",
   "metadata": {},
   "source": []
  },
  {
   "cell_type": "code",
   "execution_count": 22,
   "id": "d7ed5936",
   "metadata": {},
   "outputs": [
    {
     "data": {
      "text/plain": [
       "0"
      ]
     },
     "execution_count": 22,
     "metadata": {},
     "output_type": "execute_result"
    }
   ],
   "source": [
    "name.count(\"q\")"
   ]
  },
  {
   "cell_type": "code",
   "execution_count": 23,
   "id": "a0fbb97b",
   "metadata": {},
   "outputs": [
    {
     "data": {
      "text/plain": [
       "'EYMEN EFE ALTUN'"
      ]
     },
     "execution_count": 23,
     "metadata": {},
     "output_type": "execute_result"
    }
   ],
   "source": [
    "name.upper()"
   ]
  },
  {
   "cell_type": "code",
   "execution_count": 24,
   "id": "b70ac075",
   "metadata": {},
   "outputs": [
    {
     "data": {
      "text/plain": [
       "'eymen efe altun'"
      ]
     },
     "execution_count": 24,
     "metadata": {},
     "output_type": "execute_result"
    }
   ],
   "source": [
    "name.lower()"
   ]
  },
  {
   "cell_type": "code",
   "execution_count": 25,
   "id": "cfe3ed96",
   "metadata": {},
   "outputs": [],
   "source": [
    "name = name.upper()"
   ]
  },
  {
   "cell_type": "code",
   "execution_count": 26,
   "id": "64f27773",
   "metadata": {},
   "outputs": [
    {
     "data": {
      "text/plain": [
       "'EYMEN EFE ALTUN'"
      ]
     },
     "execution_count": 26,
     "metadata": {},
     "output_type": "execute_result"
    }
   ],
   "source": [
    "name"
   ]
  },
  {
   "cell_type": "code",
   "execution_count": 28,
   "id": "76780bc5",
   "metadata": {},
   "outputs": [
    {
     "data": {
      "text/plain": [
       "'eymen efe altun'"
      ]
     },
     "execution_count": 28,
     "metadata": {},
     "output_type": "execute_result"
    }
   ],
   "source": [
    "name.lower()"
   ]
  },
  {
   "cell_type": "code",
   "execution_count": 33,
   "id": "ff0ca0cf",
   "metadata": {},
   "outputs": [
    {
     "name": "stdout",
     "output_type": "stream",
     "text": [
      "EYMEN EFE ALTUN\n"
     ]
    }
   ],
   "source": [
    "print(name.upper())"
   ]
  },
  {
   "cell_type": "code",
   "execution_count": 34,
   "id": "fcb5ea1c",
   "metadata": {},
   "outputs": [
    {
     "data": {
      "text/plain": [
       "15"
      ]
     },
     "execution_count": 34,
     "metadata": {},
     "output_type": "execute_result"
    }
   ],
   "source": [
    "len(name)"
   ]
  },
  {
   "cell_type": "code",
   "execution_count": 35,
   "id": "58bf29d8",
   "metadata": {},
   "outputs": [],
   "source": [
    "name = 'eymen efe altun eymen efe altun'"
   ]
  },
  {
   "cell_type": "code",
   "execution_count": 36,
   "id": "30cf7f4d",
   "metadata": {},
   "outputs": [
    {
     "data": {
      "text/plain": [
       "31"
      ]
     },
     "execution_count": 36,
     "metadata": {},
     "output_type": "execute_result"
    }
   ],
   "source": [
    "len(name) "
   ]
  },
  {
   "cell_type": "code",
   "execution_count": 38,
   "id": "bbfd7aaf",
   "metadata": {},
   "outputs": [],
   "source": [
    "name = 'eymen efe altun'"
   ]
  },
  {
   "cell_type": "code",
   "execution_count": 39,
   "id": "acd3e31f",
   "metadata": {},
   "outputs": [
    {
     "data": {
      "text/plain": [
       "'eymen efe altun'"
      ]
     },
     "execution_count": 39,
     "metadata": {},
     "output_type": "execute_result"
    }
   ],
   "source": [
    "name"
   ]
  },
  {
   "cell_type": "code",
   "execution_count": 44,
   "id": "66121368",
   "metadata": {},
   "outputs": [
    {
     "name": "stdout",
     "output_type": "stream",
     "text": [
      "eymen \n",
      "efe \n",
      "altun\n"
     ]
    }
   ],
   "source": [
    "print(\"eymen \\nefe \\naltun\")"
   ]
  },
  {
   "cell_type": "code",
   "execution_count": 45,
   "id": "923e3b77",
   "metadata": {},
   "outputs": [],
   "source": [
    "# \\n --> new line"
   ]
  },
  {
   "cell_type": "code",
   "execution_count": 46,
   "id": "43231f48",
   "metadata": {},
   "outputs": [],
   "source": [
    "# \\t --> tab"
   ]
  },
  {
   "cell_type": "code",
   "execution_count": 47,
   "id": "cae54a4a",
   "metadata": {},
   "outputs": [
    {
     "name": "stdout",
     "output_type": "stream",
     "text": [
      "eymen \tefe \taltun\n"
     ]
    }
   ],
   "source": [
    "print('eymen \\tefe \\taltun')"
   ]
  },
  {
   "cell_type": "markdown",
   "id": "d6060fcd",
   "metadata": {},
   "source": [
    "# index"
   ]
  },
  {
   "cell_type": "code",
   "execution_count": 48,
   "id": "f42a49d0",
   "metadata": {},
   "outputs": [],
   "source": [
    "myString =\"hello python\""
   ]
  },
  {
   "cell_type": "code",
   "execution_count": 56,
   "id": "4a45d071",
   "metadata": {},
   "outputs": [
    {
     "data": {
      "text/plain": [
       "'n'"
      ]
     },
     "execution_count": 56,
     "metadata": {},
     "output_type": "execute_result"
    }
   ],
   "source": [
    "myString[len(myString)-1]"
   ]
  },
  {
   "cell_type": "code",
   "execution_count": 57,
   "id": "76706cd0",
   "metadata": {},
   "outputs": [
    {
     "data": {
      "text/plain": [
       "'h'"
      ]
     },
     "execution_count": 57,
     "metadata": {},
     "output_type": "execute_result"
    }
   ],
   "source": [
    "myString[0]"
   ]
  },
  {
   "cell_type": "code",
   "execution_count": 60,
   "id": "ae09de85",
   "metadata": {},
   "outputs": [
    {
     "data": {
      "text/plain": [
       "'n'"
      ]
     },
     "execution_count": 60,
     "metadata": {},
     "output_type": "execute_result"
    }
   ],
   "source": [
    "myString[-1] # takes the last chracter"
   ]
  },
  {
   "cell_type": "code",
   "execution_count": 61,
   "id": "2d11104b",
   "metadata": {},
   "outputs": [
    {
     "data": {
      "text/plain": [
       "'o'"
      ]
     },
     "execution_count": 61,
     "metadata": {},
     "output_type": "execute_result"
    }
   ],
   "source": [
    "myString[-2] # takes the last second chracter"
   ]
  },
  {
   "cell_type": "code",
   "execution_count": 62,
   "id": "256f2b95",
   "metadata": {},
   "outputs": [],
   "source": [
    "barcode = \"ABCV123ED234\""
   ]
  },
  {
   "cell_type": "code",
   "execution_count": 64,
   "id": "b96ccfd0",
   "metadata": {},
   "outputs": [
    {
     "data": {
      "text/plain": [
       "'A'"
      ]
     },
     "execution_count": 64,
     "metadata": {},
     "output_type": "execute_result"
    }
   ],
   "source": [
    "barcode[0]"
   ]
  },
  {
   "cell_type": "code",
   "execution_count": 65,
   "id": "6da7f8ea",
   "metadata": {},
   "outputs": [
    {
     "data": {
      "text/plain": [
       "'ab'"
      ]
     },
     "execution_count": 65,
     "metadata": {},
     "output_type": "execute_result"
    }
   ],
   "source": [
    "\"a\" + \"b\""
   ]
  },
  {
   "cell_type": "code",
   "execution_count": 67,
   "id": "a5323ead",
   "metadata": {},
   "outputs": [],
   "source": [
    "fullName = \"eymene efe altun\""
   ]
  },
  {
   "cell_type": "code",
   "execution_count": 68,
   "id": "a29e06c1",
   "metadata": {},
   "outputs": [
    {
     "data": {
      "text/plain": [
       "'eymene efe altuneymene efe altuneymene efe altun'"
      ]
     },
     "execution_count": 68,
     "metadata": {},
     "output_type": "execute_result"
    }
   ],
   "source": [
    "fullName * 3"
   ]
  },
  {
   "cell_type": "code",
   "execution_count": 69,
   "id": "d491ca54",
   "metadata": {},
   "outputs": [
    {
     "data": {
      "text/plain": [
       "'eymene efe altun'"
      ]
     },
     "execution_count": 69,
     "metadata": {},
     "output_type": "execute_result"
    }
   ],
   "source": [
    "fullName"
   ]
  },
  {
   "cell_type": "code",
   "execution_count": 73,
   "id": "14e752da",
   "metadata": {},
   "outputs": [
    {
     "data": {
      "text/plain": [
       "' a a a a a a a a a a a a a a a a a a a a a a a a a a a a a a a a a a a a a a a a a a a a a a a a a a a a a a a a a a a a a a a a a a a a a a a a a a a a a a a a a a a a a a a a a a a a a a a a a a a a'"
      ]
     },
     "execution_count": 73,
     "metadata": {},
     "output_type": "execute_result"
    }
   ],
   "source": [
    "100 * \" a\""
   ]
  },
  {
   "cell_type": "code",
   "execution_count": 74,
   "id": "7efc83c7",
   "metadata": {},
   "outputs": [
    {
     "data": {
      "text/plain": [
       "'ABC'"
      ]
     },
     "execution_count": 74,
     "metadata": {},
     "output_type": "execute_result"
    }
   ],
   "source": [
    "barcode[0]+barcode[1]+barcode[2]"
   ]
  },
  {
   "cell_type": "code",
   "execution_count": 75,
   "id": "1d5bdd9d",
   "metadata": {},
   "outputs": [],
   "source": [
    "#slicing, starting index, stopping index, stepping size"
   ]
  },
  {
   "cell_type": "code",
   "execution_count": 76,
   "id": "db8d0e89",
   "metadata": {},
   "outputs": [
    {
     "data": {
      "text/plain": [
       "'ABCV123ED234'"
      ]
     },
     "execution_count": 76,
     "metadata": {},
     "output_type": "execute_result"
    }
   ],
   "source": [
    "barcode"
   ]
  },
  {
   "cell_type": "code",
   "execution_count": 78,
   "id": "80876cff",
   "metadata": {},
   "outputs": [],
   "source": [
    "# barcode[ starting index : stopping index : stepping size]"
   ]
  },
  {
   "cell_type": "code",
   "execution_count": 84,
   "id": "33544f08",
   "metadata": {},
   "outputs": [
    {
     "data": {
      "text/plain": [
       "'ABC'"
      ]
     },
     "execution_count": 84,
     "metadata": {},
     "output_type": "execute_result"
    }
   ],
   "source": [
    "barcode[0:3:1]"
   ]
  },
  {
   "cell_type": "code",
   "execution_count": 85,
   "id": "3a848e1c",
   "metadata": {},
   "outputs": [
    {
     "data": {
      "text/plain": [
       "'V123ED234'"
      ]
     },
     "execution_count": 85,
     "metadata": {},
     "output_type": "execute_result"
    }
   ],
   "source": [
    "barcode[3::]"
   ]
  },
  {
   "cell_type": "code",
   "execution_count": 98,
   "id": "8ad044ee",
   "metadata": {},
   "outputs": [
    {
     "data": {
      "text/plain": [
       "'V123ED23'"
      ]
     },
     "execution_count": 98,
     "metadata": {},
     "output_type": "execute_result"
    }
   ],
   "source": [
    "barcode[3:-1:1]"
   ]
  },
  {
   "cell_type": "code",
   "execution_count": 99,
   "id": "66094694",
   "metadata": {},
   "outputs": [
    {
     "data": {
      "text/plain": [
       "'432DE321VCBA'"
      ]
     },
     "execution_count": 99,
     "metadata": {},
     "output_type": "execute_result"
    }
   ],
   "source": [
    "barcode[::-1] # reverse the string"
   ]
  },
  {
   "cell_type": "code",
   "execution_count": 109,
   "id": "1769e77b",
   "metadata": {},
   "outputs": [
    {
     "data": {
      "text/plain": [
       "'VCB'"
      ]
     },
     "execution_count": 109,
     "metadata": {},
     "output_type": "execute_result"
    }
   ],
   "source": [
    "barcode[3:0:-1]"
   ]
  },
  {
   "cell_type": "code",
   "execution_count": 110,
   "id": "54e3e829",
   "metadata": {},
   "outputs": [
    {
     "data": {
      "text/plain": [
       "'eymen efe altun'"
      ]
     },
     "execution_count": 110,
     "metadata": {},
     "output_type": "execute_result"
    }
   ],
   "source": [
    "name"
   ]
  },
  {
   "cell_type": "code",
   "execution_count": 112,
   "id": "b068a63b",
   "metadata": {},
   "outputs": [
    {
     "data": {
      "text/plain": [
       "1"
      ]
     },
     "execution_count": 112,
     "metadata": {},
     "output_type": "execute_result"
    }
   ],
   "source": [
    "name.index(\"y\")"
   ]
  },
  {
   "cell_type": "code",
   "execution_count": 113,
   "id": "348253f7",
   "metadata": {},
   "outputs": [
    {
     "data": {
      "text/plain": [
       "['eymen', 'efe', 'altun']"
      ]
     },
     "execution_count": 113,
     "metadata": {},
     "output_type": "execute_result"
    }
   ],
   "source": [
    "name.split()"
   ]
  },
  {
   "cell_type": "code",
   "execution_count": null,
   "id": "ad970b64",
   "metadata": {},
   "outputs": [],
   "source": []
  }
 ],
 "metadata": {
  "kernelspec": {
   "display_name": "Python 3 (ipykernel)",
   "language": "python",
   "name": "python3"
  },
  "language_info": {
   "codemirror_mode": {
    "name": "ipython",
    "version": 3
   },
   "file_extension": ".py",
   "mimetype": "text/x-python",
   "name": "python",
   "nbconvert_exporter": "python",
   "pygments_lexer": "ipython3",
   "version": "3.11.4"
  }
 },
 "nbformat": 4,
 "nbformat_minor": 5
}
