{
 "cells": [
  {
   "cell_type": "code",
   "execution_count": 2,
   "id": "2b3e4815",
   "metadata": {
    "tags": []
   },
   "outputs": [
    {
     "data": {
      "text/plain": [
       "12"
      ]
     },
     "execution_count": 2,
     "metadata": {},
     "output_type": "execute_result"
    }
   ],
   "source": [
    "4*3"
   ]
  },
  {
   "cell_type": "code",
   "execution_count": 3,
   "id": "5a4e4fed-b178-4c93-9ace-f46e81eae1db",
   "metadata": {},
   "outputs": [
    {
     "data": {
      "text/plain": [
       "225.0"
      ]
     },
     "execution_count": 3,
     "metadata": {},
     "output_type": "execute_result"
    }
   ],
   "source": [
    "900/4"
   ]
  },
  {
   "cell_type": "code",
   "execution_count": 4,
   "id": "9576c6fa",
   "metadata": {},
   "outputs": [
    {
     "data": {
      "text/plain": [
       "128.57142857142858"
      ]
     },
     "execution_count": 4,
     "metadata": {},
     "output_type": "execute_result"
    }
   ],
   "source": [
    "900 / 7\n"
   ]
  },
  {
   "cell_type": "code",
   "execution_count": 7,
   "id": "d095e1c0",
   "metadata": {},
   "outputs": [
    {
     "data": {
      "text/plain": [
       "625"
      ]
     },
     "execution_count": 7,
     "metadata": {},
     "output_type": "execute_result"
    }
   ],
   "source": [
    "5*5*5*5"
   ]
  },
  {
   "cell_type": "code",
   "execution_count": 8,
   "id": "6b8bcfde",
   "metadata": {},
   "outputs": [],
   "source": [
    "age = 50"
   ]
  },
  {
   "cell_type": "code",
   "execution_count": 9,
   "id": "b0e0d7a4",
   "metadata": {},
   "outputs": [
    {
     "data": {
      "text/plain": [
       "51"
      ]
     },
     "execution_count": 9,
     "metadata": {},
     "output_type": "execute_result"
    }
   ],
   "source": [
    "age + 1"
   ]
  },
  {
   "cell_type": "code",
   "execution_count": 10,
   "id": "ba7aaf9b",
   "metadata": {},
   "outputs": [
    {
     "data": {
      "text/plain": [
       "50"
      ]
     },
     "execution_count": 10,
     "metadata": {},
     "output_type": "execute_result"
    }
   ],
   "source": [
    "age"
   ]
  },
  {
   "cell_type": "code",
   "execution_count": 12,
   "id": "99da70ca",
   "metadata": {},
   "outputs": [
    {
     "data": {
      "text/plain": [
       "150"
      ]
     },
     "execution_count": 12,
     "metadata": {},
     "output_type": "execute_result"
    }
   ],
   "source": [
    "age *3"
   ]
  },
  {
   "cell_type": "code",
   "execution_count": 13,
   "id": "352678cb",
   "metadata": {},
   "outputs": [],
   "source": [
    "#data type"
   ]
  },
  {
   "cell_type": "code",
   "execution_count": 14,
   "id": "9b8e7f4e",
   "metadata": {},
   "outputs": [],
   "source": [
    "# hashtag in order to take note"
   ]
  },
  {
   "cell_type": "code",
   "execution_count": 18,
   "id": "66cbfb06",
   "metadata": {},
   "outputs": [
    {
     "data": {
      "text/plain": [
       "float"
      ]
     },
     "execution_count": 18,
     "metadata": {},
     "output_type": "execute_result"
    }
   ],
   "source": [
    "type(age/2)"
   ]
  },
  {
   "cell_type": "code",
   "execution_count": 19,
   "id": "1a745a20",
   "metadata": {},
   "outputs": [
    {
     "data": {
      "text/plain": [
       "int"
      ]
     },
     "execution_count": 19,
     "metadata": {},
     "output_type": "execute_result"
    }
   ],
   "source": [
    "type(age*2)"
   ]
  },
  {
   "cell_type": "code",
   "execution_count": 20,
   "id": "1d2f0264",
   "metadata": {},
   "outputs": [
    {
     "data": {
      "text/plain": [
       "float"
      ]
     },
     "execution_count": 20,
     "metadata": {},
     "output_type": "execute_result"
    }
   ],
   "source": [
    "type(3.123123123)"
   ]
  },
  {
   "cell_type": "code",
   "execution_count": 21,
   "id": "1aa85931",
   "metadata": {},
   "outputs": [],
   "source": [
    "x = 23"
   ]
  },
  {
   "cell_type": "code",
   "execution_count": 22,
   "id": "5913497f",
   "metadata": {},
   "outputs": [
    {
     "data": {
      "text/plain": [
       "23"
      ]
     },
     "execution_count": 22,
     "metadata": {},
     "output_type": "execute_result"
    }
   ],
   "source": [
    "x"
   ]
  },
  {
   "cell_type": "code",
   "execution_count": 23,
   "id": "90e76819",
   "metadata": {},
   "outputs": [],
   "source": [
    "x = 123123123"
   ]
  },
  {
   "cell_type": "code",
   "execution_count": 24,
   "id": "3f4e87e1",
   "metadata": {},
   "outputs": [
    {
     "data": {
      "text/plain": [
       "123123123"
      ]
     },
     "execution_count": 24,
     "metadata": {},
     "output_type": "execute_result"
    }
   ],
   "source": [
    "x"
   ]
  },
  {
   "cell_type": "code",
   "execution_count": 25,
   "id": "dd37f781",
   "metadata": {},
   "outputs": [
    {
     "name": "stdout",
     "output_type": "stream",
     "text": [
      "\f",
      "\n"
     ]
    }
   ],
   "source": [
    "clear\n"
   ]
  },
  {
   "cell_type": "code",
   "execution_count": 26,
   "id": "31bad78c",
   "metadata": {},
   "outputs": [
    {
     "data": {
      "text/plain": [
       "float"
      ]
     },
     "execution_count": 26,
     "metadata": {},
     "output_type": "execute_result"
    }
   ],
   "source": [
    "type(-31.2345235232)"
   ]
  },
  {
   "cell_type": "code",
   "execution_count": 27,
   "id": "b6aac3a7",
   "metadata": {},
   "outputs": [],
   "source": [
    "myFloat = 123123.2345890345890345890345890534098"
   ]
  },
  {
   "cell_type": "code",
   "execution_count": 28,
   "id": "a3fc4519",
   "metadata": {},
   "outputs": [
    {
     "data": {
      "text/plain": [
       "123123.23458903459"
      ]
     },
     "execution_count": 28,
     "metadata": {},
     "output_type": "execute_result"
    }
   ],
   "source": [
    "myFloat"
   ]
  },
  {
   "cell_type": "code",
   "execution_count": 29,
   "id": "b4643d16",
   "metadata": {},
   "outputs": [],
   "source": [
    "myFloat = 133.12312312300094599"
   ]
  },
  {
   "cell_type": "code",
   "execution_count": 30,
   "id": "0128d104",
   "metadata": {},
   "outputs": [
    {
     "data": {
      "text/plain": [
       "133.12312312300094"
      ]
     },
     "execution_count": 30,
     "metadata": {},
     "output_type": "execute_result"
    }
   ],
   "source": [
    "myFloat\n"
   ]
  },
  {
   "cell_type": "code",
   "execution_count": 31,
   "id": "d22f3fcd",
   "metadata": {},
   "outputs": [
    {
     "data": {
      "text/plain": [
       "10.0"
      ]
     },
     "execution_count": 31,
     "metadata": {},
     "output_type": "execute_result"
    }
   ],
   "source": [
    "40 / 4"
   ]
  },
  {
   "cell_type": "code",
   "execution_count": 32,
   "id": "364d3bbb",
   "metadata": {},
   "outputs": [
    {
     "data": {
      "text/plain": [
       "float"
      ]
     },
     "execution_count": 32,
     "metadata": {},
     "output_type": "execute_result"
    }
   ],
   "source": [
    "type(40/2)"
   ]
  },
  {
   "cell_type": "code",
   "execution_count": 33,
   "id": "6c3b8d15",
   "metadata": {},
   "outputs": [
    {
     "data": {
      "text/plain": [
       "float"
      ]
     },
     "execution_count": 33,
     "metadata": {},
     "output_type": "execute_result"
    }
   ],
   "source": [
    "type(4.0)"
   ]
  },
  {
   "cell_type": "code",
   "execution_count": 34,
   "id": "4a5ccf20",
   "metadata": {},
   "outputs": [
    {
     "data": {
      "text/plain": [
       "int"
      ]
     },
     "execution_count": 34,
     "metadata": {},
     "output_type": "execute_result"
    }
   ],
   "source": [
    "type(5)"
   ]
  },
  {
   "cell_type": "code",
   "execution_count": 36,
   "id": "6e3f6ef9",
   "metadata": {},
   "outputs": [
    {
     "data": {
      "text/plain": [
       "float"
      ]
     },
     "execution_count": 36,
     "metadata": {},
     "output_type": "execute_result"
    }
   ],
   "source": [
    "type(4*2.2)"
   ]
  },
  {
   "cell_type": "code",
   "execution_count": 37,
   "id": "121745ad",
   "metadata": {},
   "outputs": [
    {
     "data": {
      "text/plain": [
       "2"
      ]
     },
     "execution_count": 37,
     "metadata": {},
     "output_type": "execute_result"
    }
   ],
   "source": [
    "4 -2"
   ]
  },
  {
   "cell_type": "code",
   "execution_count": 38,
   "id": "dcdd6eeb",
   "metadata": {},
   "outputs": [
    {
     "data": {
      "text/plain": [
       "2.0"
      ]
     },
     "execution_count": 38,
     "metadata": {},
     "output_type": "execute_result"
    }
   ],
   "source": [
    "4 -2.0"
   ]
  },
  {
   "cell_type": "code",
   "execution_count": 39,
   "id": "b08e4cf1",
   "metadata": {},
   "outputs": [
    {
     "data": {
      "text/plain": [
       "2.4000000000000004"
      ]
     },
     "execution_count": 39,
     "metadata": {},
     "output_type": "execute_result"
    }
   ],
   "source": [
    "4.4 -2"
   ]
  },
  {
   "cell_type": "code",
   "execution_count": 40,
   "id": "956afcd0",
   "metadata": {},
   "outputs": [
    {
     "data": {
      "text/plain": [
       "2.5"
      ]
     },
     "execution_count": 40,
     "metadata": {},
     "output_type": "execute_result"
    }
   ],
   "source": [
    "4.5 -2 "
   ]
  },
  {
   "cell_type": "code",
   "execution_count": 42,
   "id": "aa383f85",
   "metadata": {},
   "outputs": [
    {
     "data": {
      "text/plain": [
       "2.3000000000000003"
      ]
     },
     "execution_count": 42,
     "metadata": {},
     "output_type": "execute_result"
    }
   ],
   "source": [
    "4.4 -2.1"
   ]
  },
  {
   "cell_type": "code",
   "execution_count": 47,
   "id": "3fd0b208",
   "metadata": {},
   "outputs": [
    {
     "data": {
      "text/plain": [
       "1171181892664591029916240043423714405145140266935666372300187131506353392911382644839106033645054155730276598991305880507163090846861425619645385439381465191422938369243905388747199832164685695768099108738635228788549916368182389872592632180580581713895573273807850428393387795688117683037807970379317349811703684707721063505177995577772012423299742312841186090149932656547945664993084934632455364747999936875266669747051648233916294593346827649428379485508905061451012672975210795777050996847017833852094142555640983217670799534013534218703691619218770777550137529014730111507485632051632340895563274065894170435034373905780610896314924963277772655813846171697267269553022981596771952039920461191638298288151823998844446587786000228730138918495712372346182944888901101430922130126124102566207270242586338054840650692698910924670262513947459403473142877337180355529424058678638963725826396660898032689662466095882248429223582845053435527562515172242783964102898535270670177411651467641952261008804794266620740977029277848447053331522090252395122904201129696394546549081068933871126192770119498382333507399164684278714132500653321021187153964420728340649405860497872210407384334504603478266098094437067657394497579358560407629347953078686863419930612018342545225777754818388633560692351340113499527133294252381631417790766209758055522125401059571163462688778030826183028929958267480646656028118794162767610231595104548499317601396926468327351681837185569925075300966704454756318445034979534310205890497345928281311501667674067678610066818848932630726863424082734254110817718148989172395784546287561298308298453150336505428102420542292067495363387254282946706105499677335933205322183422156428528274039092205108816993059330933998308104388094339992481756012840086432191261057530044605693276010797758850610436096412451490503308411234088623617747749198612457580372566739678417629800789156331466284253305742578162222581263181225259933125963691667555701371225476508085931182523167086469403839503450434952102102646834158952293916673690204219673334918675431253784707665324805655266184849040847851697664527629338324147012249500750491017733630386805502179195371839540050268333694281785574876988670792217671022524574625616344535786725074874285025364903544457288149062573798055070505295929278174363673111855556264141881563547013990257652622524255240248877081972047586184223793467419953329757247972569455540122056572397127995420330158167790962275048966483362064754521461434228903169757282304"
      ]
     },
     "execution_count": 47,
     "metadata": {},
     "output_type": "execute_result"
    }
   ],
   "source": [
    "2 ** 8222"
   ]
  },
  {
   "cell_type": "code",
   "execution_count": 54,
   "id": "df6cea37",
   "metadata": {},
   "outputs": [
    {
     "data": {
      "text/plain": [
       "341"
      ]
     },
     "execution_count": 54,
     "metadata": {},
     "output_type": "execute_result"
    }
   ],
   "source": [
    "101321321132 % 12443"
   ]
  },
  {
   "cell_type": "code",
   "execution_count": null,
   "id": "f264a7a4",
   "metadata": {},
   "outputs": [],
   "source": []
  }
 ],
 "metadata": {
  "kernelspec": {
   "display_name": "Python 3 (ipykernel)",
   "language": "python",
   "name": "python3"
  },
  "language_info": {
   "codemirror_mode": {
    "name": "ipython",
    "version": 3
   },
   "file_extension": ".py",
   "mimetype": "text/x-python",
   "name": "python",
   "nbconvert_exporter": "python",
   "pygments_lexer": "ipython3",
   "version": "3.11.4"
  }
 },
 "nbformat": 4,
 "nbformat_minor": 5
}
