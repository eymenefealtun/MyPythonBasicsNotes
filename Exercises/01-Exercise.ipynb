{
 "cells": [
  {
   "cell_type": "code",
   "execution_count": 2,
   "id": "9dde648a",
   "metadata": {},
   "outputs": [],
   "source": [
    "def myFunc(num):\n",
    "    return num **3;"
   ]
  },
  {
   "cell_type": "code",
   "execution_count": 3,
   "id": "d131ca6d",
   "metadata": {},
   "outputs": [],
   "source": [
    "myList = [2,3,4,5,6]"
   ]
  },
  {
   "cell_type": "code",
   "execution_count": 4,
   "id": "7163684a",
   "metadata": {},
   "outputs": [
    {
     "name": "stdout",
     "output_type": "stream",
     "text": [
      "[8, 27, 64, 125, 216]\n"
     ]
    },
    {
     "data": {
      "text/plain": [
       "[8, 27, 64, 125, 216]"
      ]
     },
     "execution_count": 4,
     "metadata": {},
     "output_type": "execute_result"
    }
   ],
   "source": [
    "myNewList = [];\n",
    "for element in myList:\n",
    "    myNewList.append(myFunc(element));\n",
    "print(myNewList)\n",
    "\n",
    "#OR\n",
    "\n",
    "list(map(myFunc,myList))"
   ]
  },
  {
   "cell_type": "code",
   "execution_count": null,
   "id": "8b29356b",
   "metadata": {},
   "outputs": [],
   "source": []
  },
  {
   "cell_type": "code",
   "execution_count": null,
   "id": "d2ef9b72",
   "metadata": {},
   "outputs": [],
   "source": []
  },
  {
   "cell_type": "code",
   "execution_count": 1,
   "id": "07bf8af3",
   "metadata": {},
   "outputs": [],
   "source": [
    "barcodes = [\"ABC231\",\"SA3123XYZ\",\"XYZA123Q\",\"QRE1231KJ\",\"X112QGL\"]"
   ]
  },
  {
   "cell_type": "code",
   "execution_count": 3,
   "id": "fbf90f0b",
   "metadata": {},
   "outputs": [
    {
     "data": {
      "text/plain": [
       "['SA3123XYZ', 'XYZA123Q']"
      ]
     },
     "execution_count": 3,
     "metadata": {},
     "output_type": "execute_result"
    }
   ],
   "source": [
    "list(filter(lambda string: \"XYZ\" in string, barcodes))  #shows barcodes contains \"XYZ\""
   ]
  },
  {
   "cell_type": "code",
   "execution_count": null,
   "id": "0bf1e623",
   "metadata": {},
   "outputs": [],
   "source": []
  }
 ],
 "metadata": {
  "kernelspec": {
   "display_name": "Python 3 (ipykernel)",
   "language": "python",
   "name": "python3"
  },
  "language_info": {
   "codemirror_mode": {
    "name": "ipython",
    "version": 3
   },
   "file_extension": ".py",
   "mimetype": "text/x-python",
   "name": "python",
   "nbconvert_exporter": "python",
   "pygments_lexer": "ipython3",
   "version": "3.11.4"
  }
 },
 "nbformat": 4,
 "nbformat_minor": 5
}
