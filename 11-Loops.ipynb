{
 "cells": [
  {
   "cell_type": "code",
   "execution_count": 1,
   "id": "cc5d1f3c",
   "metadata": {},
   "outputs": [],
   "source": [
    "# for loop"
   ]
  },
  {
   "cell_type": "code",
   "execution_count": 2,
   "id": "515faceb",
   "metadata": {},
   "outputs": [],
   "source": [
    "myList = [10,20,30,40,50,60]"
   ]
  },
  {
   "cell_type": "code",
   "execution_count": 9,
   "id": "6e29f755",
   "metadata": {},
   "outputs": [
    {
     "name": "stdout",
     "output_type": "stream",
     "text": [
      "4\n",
      "8\n",
      "12\n",
      "16\n",
      "20\n",
      "24\n"
     ]
    }
   ],
   "source": [
    "for number in myList:\n",
    "    print(int(number /5 * 2))"
   ]
  },
  {
   "cell_type": "code",
   "execution_count": 10,
   "id": "484b555a",
   "metadata": {},
   "outputs": [
    {
     "name": "stdout",
     "output_type": "stream",
     "text": [
      "30\n",
      "60\n"
     ]
    }
   ],
   "source": [
    "for number in myList:\n",
    "    if number % 6 == 0:\n",
    "        print(number)"
   ]
  },
  {
   "cell_type": "code",
   "execution_count": 11,
   "id": "07e6fbba",
   "metadata": {},
   "outputs": [],
   "source": [
    "myName = \"eymen efe altun\""
   ]
  },
  {
   "cell_type": "code",
   "execution_count": 13,
   "id": "6114fd27",
   "metadata": {},
   "outputs": [
    {
     "name": "stdout",
     "output_type": "stream",
     "text": [
      "e\n",
      "y\n",
      "m\n",
      "e\n",
      "n\n",
      " \n",
      "e\n",
      "f\n",
      "e\n",
      " \n",
      "a\n",
      "l\n",
      "t\n",
      "u\n",
      "n\n"
     ]
    }
   ],
   "source": [
    "for c in myName:\n",
    "    print(c)        \n"
   ]
  },
  {
   "cell_type": "code",
   "execution_count": 14,
   "id": "9d98f398",
   "metadata": {},
   "outputs": [],
   "source": [
    "myNewList = [(\"a\",\"b\"), (\"c\",\"d\"),(\"e\",\"f\"),(\"g\",\"h\")]"
   ]
  },
  {
   "cell_type": "code",
   "execution_count": 19,
   "id": "66e63467",
   "metadata": {},
   "outputs": [
    {
     "data": {
      "text/plain": [
       "'b'"
      ]
     },
     "execution_count": 19,
     "metadata": {},
     "output_type": "execute_result"
    }
   ],
   "source": [
    "myNewList[0]"
   ]
  },
  {
   "cell_type": "code",
   "execution_count": 20,
   "id": "475d5a4f",
   "metadata": {},
   "outputs": [
    {
     "name": "stdout",
     "output_type": "stream",
     "text": [
      "('a', 'b')\n",
      "('c', 'd')\n",
      "('e', 'f')\n",
      "('g', 'h')\n"
     ]
    }
   ],
   "source": [
    "for element in myNewList:\n",
    "    print(element)"
   ]
  },
  {
   "cell_type": "code",
   "execution_count": 21,
   "id": "c6d15c9e",
   "metadata": {},
   "outputs": [],
   "source": [
    "# tuple unpacking"
   ]
  },
  {
   "cell_type": "code",
   "execution_count": 31,
   "id": "8711f843",
   "metadata": {},
   "outputs": [
    {
     "name": "stdout",
     "output_type": "stream",
     "text": [
      "a\n",
      "c\n",
      "e\n",
      "g\n"
     ]
    }
   ],
   "source": [
    "for (x,y) in myNewList:\n",
    "    print(x )"
   ]
  },
  {
   "cell_type": "code",
   "execution_count": 33,
   "id": "ac34668f",
   "metadata": {},
   "outputs": [],
   "source": [
    "myDictionary = {\"k1\":100,\"k2\":200,\"k3\":300}"
   ]
  },
  {
   "cell_type": "code",
   "execution_count": 37,
   "id": "a0e9d420",
   "metadata": {},
   "outputs": [
    {
     "name": "stdout",
     "output_type": "stream",
     "text": [
      "k1\n",
      "k2\n",
      "k3\n"
     ]
    }
   ],
   "source": [
    "for element in myDictionary:\n",
    "    print(element)"
   ]
  },
  {
   "cell_type": "code",
   "execution_count": 41,
   "id": "9f76c1cc",
   "metadata": {},
   "outputs": [
    {
     "name": "stdout",
     "output_type": "stream",
     "text": [
      "100\n",
      "200\n",
      "300\n"
     ]
    }
   ],
   "source": [
    "for (x,y)  in myDictionary.items():\n",
    "    print(y)"
   ]
  },
  {
   "cell_type": "code",
   "execution_count": 44,
   "id": "ed367e5d",
   "metadata": {},
   "outputs": [
    {
     "data": {
      "text/plain": [
       "dict_items([('k1', 100), ('k2', 200), ('k3', 300)])"
      ]
     },
     "execution_count": 44,
     "metadata": {},
     "output_type": "execute_result"
    }
   ],
   "source": [
    "myDictionary.items()"
   ]
  },
  {
   "cell_type": "code",
   "execution_count": 45,
   "id": "cefa7c2a",
   "metadata": {},
   "outputs": [
    {
     "name": "stdout",
     "output_type": "stream",
     "text": [
      "100\n",
      "200\n",
      "300\n"
     ]
    }
   ],
   "source": [
    "for num in myDictionary.values():\n",
    "    print(num)"
   ]
  },
  {
   "cell_type": "code",
   "execution_count": 46,
   "id": "5acf58a2",
   "metadata": {},
   "outputs": [],
   "source": [
    "# continue - break - pass"
   ]
  },
  {
   "cell_type": "code",
   "execution_count": 60,
   "id": "adbdf0b2",
   "metadata": {},
   "outputs": [],
   "source": [
    "myList = [10,20,30,40,50,60,70]"
   ]
  },
  {
   "cell_type": "code",
   "execution_count": 64,
   "id": "f6c70337",
   "metadata": {},
   "outputs": [
    {
     "name": "stdout",
     "output_type": "stream",
     "text": [
      "10\n",
      "20\n",
      "30\n",
      "40\n",
      "yes\n"
     ]
    }
   ],
   "source": [
    "for num in myList:\n",
    "    print(num);\n",
    "    if num == 40:\n",
    "        print(\"yes\")\n",
    "        break\n"
   ]
  },
  {
   "cell_type": "code",
   "execution_count": 66,
   "id": "8473fb7a",
   "metadata": {},
   "outputs": [
    {
     "name": "stdout",
     "output_type": "stream",
     "text": [
      "10\n",
      "20\n",
      "30\n",
      "40\n",
      "50\n",
      "60\n",
      "70\n"
     ]
    }
   ],
   "source": [
    "for num in myList:\n",
    "    print(num);\n",
    "    if num == 40:\n",
    "        continue ## stop here and don't execute after here       \n",
    "        print(\"yes\")\n"
   ]
  },
  {
   "cell_type": "code",
   "execution_count": 69,
   "id": "987cab7c",
   "metadata": {},
   "outputs": [
    {
     "name": "stdout",
     "output_type": "stream",
     "text": [
      "10\n",
      "20\n",
      "30\n",
      "50\n",
      "60\n",
      "70\n"
     ]
    }
   ],
   "source": [
    "for num in myList:\n",
    "    if num == 40:\n",
    "        continue    \n",
    "    print(num);\n",
    "  "
   ]
  },
  {
   "cell_type": "code",
   "execution_count": 70,
   "id": "a22f7702",
   "metadata": {},
   "outputs": [],
   "source": [
    "for num in myList:\n",
    "    pass            "
   ]
  },
  {
   "cell_type": "code",
   "execution_count": 26,
   "id": "25f58595",
   "metadata": {},
   "outputs": [],
   "source": [
    "#while"
   ]
  },
  {
   "cell_type": "code",
   "execution_count": 36,
   "id": "d83dc43c",
   "metadata": {},
   "outputs": [
    {
     "name": "stdout",
     "output_type": "stream",
     "text": [
      "0\n",
      "1\n",
      "2\n",
      "3\n",
      "4\n",
      "5\n",
      "6\n",
      "7\n",
      "8\n",
      "9\n",
      "10\n"
     ]
    }
   ],
   "source": [
    "x= 0\n",
    "while x <= 10:\n",
    "    print(x)\n",
    "    x= x+1;"
   ]
  },
  {
   "cell_type": "code",
   "execution_count": 50,
   "id": "c5f60ba4",
   "metadata": {},
   "outputs": [],
   "source": [
    "myList = [10,20,30,40]"
   ]
  },
  {
   "cell_type": "code",
   "execution_count": 51,
   "id": "1d9505bb",
   "metadata": {},
   "outputs": [
    {
     "name": "stdout",
     "output_type": "stream",
     "text": [
      "20\n",
      "20\n",
      "20\n"
     ]
    }
   ],
   "source": [
    "while 20 in myList:\n",
    "    print(20)\n",
    "    myList.pop()"
   ]
  },
  {
   "cell_type": "code",
   "execution_count": 52,
   "id": "3569f34b",
   "metadata": {},
   "outputs": [],
   "source": [
    "myList = [10,20,30,40]"
   ]
  },
  {
   "cell_type": "code",
   "execution_count": 53,
   "id": "cc3896e2",
   "metadata": {},
   "outputs": [
    {
     "data": {
      "text/plain": [
       "[10, 20, 30, 40]"
      ]
     },
     "execution_count": 53,
     "metadata": {},
     "output_type": "execute_result"
    }
   ],
   "source": [
    "myList"
   ]
  },
  {
   "cell_type": "code",
   "execution_count": 54,
   "id": "f68172a3",
   "metadata": {},
   "outputs": [
    {
     "name": "stdout",
     "output_type": "stream",
     "text": [
      "[10, 20, 30, 40]\n"
     ]
    }
   ],
   "source": [
    "print(myList)"
   ]
  },
  {
   "cell_type": "code",
   "execution_count": 60,
   "id": "d12f7494",
   "metadata": {},
   "outputs": [
    {
     "name": "stdout",
     "output_type": "stream",
     "text": [
      "MY LIST: [10, 20, 30, 40]\n"
     ]
    }
   ],
   "source": [
    "print(f\"MY LIST: {myList}\")     ## formatted string"
   ]
  },
  {
   "cell_type": "code",
   "execution_count": 62,
   "id": "20ebdc9c",
   "metadata": {},
   "outputs": [],
   "source": [
    "name = \"eymen\""
   ]
  },
  {
   "cell_type": "code",
   "execution_count": 73,
   "id": "c0bae7df",
   "metadata": {},
   "outputs": [
    {
     "name": "stdout",
     "output_type": "stream",
     "text": [
      "welcome eymen how are you\n"
     ]
    }
   ],
   "source": [
    "print(\"welcome\", name ,\"how are you\")"
   ]
  },
  {
   "cell_type": "code",
   "execution_count": 75,
   "id": "8568ee9d",
   "metadata": {},
   "outputs": [
    {
     "name": "stdout",
     "output_type": "stream",
     "text": [
      "P is 1\n",
      "P is 2\n",
      "P is 3\n",
      "P is 4\n",
      "P is 5\n",
      "P is 6\n",
      "P is 7\n",
      "P is 8\n",
      "P is 9\n",
      "P is 10\n",
      "P is 11\n",
      "P is 12\n",
      "P is 13\n",
      "P is 14\n",
      "P is 15\n",
      "P is 16\n",
      "P is 17\n",
      "P is 18\n",
      "P is 19\n",
      "P is 20\n"
     ]
    }
   ],
   "source": [
    "p = 0\n",
    "\n",
    "while p < 20:\n",
    "    p +=1;\n",
    "    print(f\"P is {p}\")"
   ]
  },
  {
   "cell_type": "code",
   "execution_count": null,
   "id": "059ec561",
   "metadata": {},
   "outputs": [],
   "source": []
  }
 ],
 "metadata": {
  "kernelspec": {
   "display_name": "Python 3 (ipykernel)",
   "language": "python",
   "name": "python3"
  },
  "language_info": {
   "codemirror_mode": {
    "name": "ipython",
    "version": 3
   },
   "file_extension": ".py",
   "mimetype": "text/x-python",
   "name": "python",
   "nbconvert_exporter": "python",
   "pygments_lexer": "ipython3",
   "version": "3.11.4"
  }
 },
 "nbformat": 4,
 "nbformat_minor": 5
}
