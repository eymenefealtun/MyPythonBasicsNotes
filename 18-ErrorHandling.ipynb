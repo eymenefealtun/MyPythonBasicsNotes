{
 "cells": [
  {
   "cell_type": "code",
   "execution_count": 1,
   "id": "16281b34",
   "metadata": {},
   "outputs": [
    {
     "name": "stdout",
     "output_type": "stream",
     "text": [
      "enter age: 32\n"
     ]
    }
   ],
   "source": [
    "age = input(\"enter age: \")"
   ]
  },
  {
   "cell_type": "code",
   "execution_count": 2,
   "id": "47a9bb34",
   "metadata": {},
   "outputs": [
    {
     "data": {
      "text/plain": [
       "32"
      ]
     },
     "execution_count": 2,
     "metadata": {},
     "output_type": "execute_result"
    }
   ],
   "source": [
    "int(age)"
   ]
  },
  {
   "cell_type": "code",
   "execution_count": 3,
   "id": "801922a6",
   "metadata": {},
   "outputs": [
    {
     "name": "stdout",
     "output_type": "stream",
     "text": [
      "enter age:32\n",
      "64\n"
     ]
    }
   ],
   "source": [
    "try:\n",
    "    myAge = int(input(\"enter age:\"))\n",
    "    print(myAge*2)\n",
    "except:\n",
    "    print(\"Something gone wrong\")"
   ]
  },
  {
   "cell_type": "code",
   "execution_count": 4,
   "id": "5cf0e569",
   "metadata": {},
   "outputs": [
    {
     "name": "stdout",
     "output_type": "stream",
     "text": [
      "enter age:23\n",
      "46\n"
     ]
    }
   ],
   "source": [
    "while True:\n",
    "    try:\n",
    "        myAge = int(input(\"enter age:\"))\n",
    "        print(myAge*2)\n",
    "        break;\n",
    "    except ValueError:\n",
    "        print(\"Something gone wrong\")"
   ]
  },
  {
   "cell_type": "code",
   "execution_count": 6,
   "id": "3f0d96d0",
   "metadata": {},
   "outputs": [
    {
     "name": "stdout",
     "output_type": "stream",
     "text": [
      "enter age:asd\n",
      "Something gone wrong\n",
      "finally executed\n",
      "enter age: 3\n",
      "6\n",
      "else executed\n",
      "finally executed\n"
     ]
    }
   ],
   "source": [
    "while True:\n",
    "    try:\n",
    "        myAge = int(input(\"enter age:\"))\n",
    "        print(myAge*2)\n",
    "    except:\n",
    "        print(\"Something gone wrong\")\n",
    "    else:\n",
    "        print(\"else executed\") ## this goes if there is no exception \n",
    "        break;\n",
    "    finally:\n",
    "        print(\"finally executed\")\n",
    "        "
   ]
  },
  {
   "cell_type": "code",
   "execution_count": null,
   "id": "c070ba1c",
   "metadata": {},
   "outputs": [],
   "source": []
  }
 ],
 "metadata": {
  "kernelspec": {
   "display_name": "Python 3 (ipykernel)",
   "language": "python",
   "name": "python3"
  },
  "language_info": {
   "codemirror_mode": {
    "name": "ipython",
    "version": 3
   },
   "file_extension": ".py",
   "mimetype": "text/x-python",
   "name": "python",
   "nbconvert_exporter": "python",
   "pygments_lexer": "ipython3",
   "version": "3.11.4"
  }
 },
 "nbformat": 4,
 "nbformat_minor": 5
}
