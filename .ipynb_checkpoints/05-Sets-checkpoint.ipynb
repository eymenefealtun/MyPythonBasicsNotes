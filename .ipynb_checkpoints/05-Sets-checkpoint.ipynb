{
 "cells": [
  {
   "cell_type": "code",
   "execution_count": 2,
   "id": "d84245ea",
   "metadata": {},
   "outputs": [],
   "source": [
    "#unique elements, unordered"
   ]
  },
  {
   "cell_type": "code",
   "execution_count": 3,
   "id": "d4f3dd4f",
   "metadata": {},
   "outputs": [],
   "source": [
    "myList = [10,30,20,4,10,10,20,40]"
   ]
  },
  {
   "cell_type": "code",
   "execution_count": 4,
   "id": "09c83b6e",
   "metadata": {},
   "outputs": [
    {
     "data": {
      "text/plain": [
       "8"
      ]
     },
     "execution_count": 4,
     "metadata": {},
     "output_type": "execute_result"
    }
   ],
   "source": [
    "len(myList)"
   ]
  },
  {
   "cell_type": "code",
   "execution_count": 5,
   "id": "59280160",
   "metadata": {},
   "outputs": [
    {
     "data": {
      "text/plain": [
       "[10, 30, 20, 4, 10, 10, 20, 40]"
      ]
     },
     "execution_count": 5,
     "metadata": {},
     "output_type": "execute_result"
    }
   ],
   "source": [
    "myList"
   ]
  },
  {
   "cell_type": "code",
   "execution_count": 10,
   "id": "d4c62504",
   "metadata": {},
   "outputs": [],
   "source": [
    "mySet = set(myList) #reoerders the elements in distinct way"
   ]
  },
  {
   "cell_type": "code",
   "execution_count": 11,
   "id": "481ae0d9",
   "metadata": {},
   "outputs": [
    {
     "data": {
      "text/plain": [
       "{4, 10, 20, 30, 40}"
      ]
     },
     "execution_count": 11,
     "metadata": {},
     "output_type": "execute_result"
    }
   ],
   "source": [
    "mySet"
   ]
  },
  {
   "cell_type": "code",
   "execution_count": 15,
   "id": "d734ac24",
   "metadata": {},
   "outputs": [],
   "source": [
    "anotherSet = {12,30,10,20,3,4,112,232,321,1,13,2}"
   ]
  },
  {
   "cell_type": "code",
   "execution_count": 16,
   "id": "7e4da13c",
   "metadata": {},
   "outputs": [
    {
     "data": {
      "text/plain": [
       "{1, 2, 3, 4, 10, 12, 13, 20, 30, 112, 232, 321}"
      ]
     },
     "execution_count": 16,
     "metadata": {},
     "output_type": "execute_result"
    }
   ],
   "source": [
    "anotherSet"
   ]
  },
  {
   "cell_type": "code",
   "execution_count": 17,
   "id": "decd9047",
   "metadata": {},
   "outputs": [
    {
     "data": {
      "text/plain": [
       "{1, 2, 3, 4, 10, 12, 13, 20, 30, 40, 112, 232, 321}"
      ]
     },
     "execution_count": 17,
     "metadata": {},
     "output_type": "execute_result"
    }
   ],
   "source": [
    "mySet.union(anotherSet)"
   ]
  },
  {
   "cell_type": "code",
   "execution_count": 18,
   "id": "5d5906cf",
   "metadata": {},
   "outputs": [
    {
     "data": {
      "text/plain": [
       "{4, 10, 20, 30}"
      ]
     },
     "execution_count": 18,
     "metadata": {},
     "output_type": "execute_result"
    }
   ],
   "source": [
    " mySet.intersection(anotherSet)"
   ]
  },
  {
   "cell_type": "code",
   "execution_count": 19,
   "id": "b49faa06",
   "metadata": {},
   "outputs": [],
   "source": [
    "countryList = [\"de\", \"fr\",\"tr\",\"tr\",\"tr\",\"nl\"]"
   ]
  },
  {
   "cell_type": "code",
   "execution_count": 20,
   "id": "86ed8908",
   "metadata": {},
   "outputs": [
    {
     "data": {
      "text/plain": [
       "{'de', 'fr', 'nl', 'tr'}"
      ]
     },
     "execution_count": 20,
     "metadata": {},
     "output_type": "execute_result"
    }
   ],
   "source": [
    "set(countryList)"
   ]
  },
  {
   "cell_type": "code",
   "execution_count": 1,
   "id": "d5493cad",
   "metadata": {},
   "outputs": [],
   "source": [
    "emptySet = {}\n"
   ]
  },
  {
   "cell_type": "code",
   "execution_count": 2,
   "id": "7df6b27a",
   "metadata": {},
   "outputs": [
    {
     "data": {
      "text/plain": [
       "dict"
      ]
     },
     "execution_count": 2,
     "metadata": {},
     "output_type": "execute_result"
    }
   ],
   "source": [
    "type(emptySet)"
   ]
  },
  {
   "cell_type": "code",
   "execution_count": 3,
   "id": "9a08ab46",
   "metadata": {},
   "outputs": [],
   "source": [
    "emptySet = set()\n"
   ]
  },
  {
   "cell_type": "code",
   "execution_count": 4,
   "id": "eeb88ff0",
   "metadata": {},
   "outputs": [
    {
     "data": {
      "text/plain": [
       "set"
      ]
     },
     "execution_count": 4,
     "metadata": {},
     "output_type": "execute_result"
    }
   ],
   "source": [
    "type(emptySet)"
   ]
  },
  {
   "cell_type": "code",
   "execution_count": 5,
   "id": "b1007ec5",
   "metadata": {},
   "outputs": [],
   "source": [
    "emptyList = []"
   ]
  },
  {
   "cell_type": "code",
   "execution_count": 6,
   "id": "264ff68a",
   "metadata": {},
   "outputs": [
    {
     "data": {
      "text/plain": [
       "list"
      ]
     },
     "execution_count": 6,
     "metadata": {},
     "output_type": "execute_result"
    }
   ],
   "source": [
    "type(emptyList)"
   ]
  },
  {
   "cell_type": "code",
   "execution_count": 8,
   "id": "8f7521b3",
   "metadata": {},
   "outputs": [],
   "source": [
    "emptyList = list()"
   ]
  },
  {
   "cell_type": "code",
   "execution_count": 9,
   "id": "abf96c73",
   "metadata": {},
   "outputs": [
    {
     "data": {
      "text/plain": [
       "list"
      ]
     },
     "execution_count": 9,
     "metadata": {},
     "output_type": "execute_result"
    }
   ],
   "source": [
    "type(emptyList)"
   ]
  },
  {
   "cell_type": "code",
   "execution_count": 12,
   "id": "ed0f0778",
   "metadata": {},
   "outputs": [],
   "source": [
    "emptyDictionary = {}\n",
    "emptyDictionary = dict() ##both are same\n"
   ]
  },
  {
   "cell_type": "code",
   "execution_count": 13,
   "id": "9cf4756c",
   "metadata": {},
   "outputs": [
    {
     "data": {
      "text/plain": [
       "dict"
      ]
     },
     "execution_count": 13,
     "metadata": {},
     "output_type": "execute_result"
    }
   ],
   "source": [
    "type(emptyDictionary)"
   ]
  },
  {
   "cell_type": "code",
   "execution_count": null,
   "id": "4cfeb04b",
   "metadata": {},
   "outputs": [],
   "source": []
  }
 ],
 "metadata": {
  "kernelspec": {
   "display_name": "Python 3 (ipykernel)",
   "language": "python",
   "name": "python3"
  },
  "language_info": {
   "codemirror_mode": {
    "name": "ipython",
    "version": 3
   },
   "file_extension": ".py",
   "mimetype": "text/x-python",
   "name": "python",
   "nbconvert_exporter": "python",
   "pygments_lexer": "ipython3",
   "version": "3.11.4"
  }
 },
 "nbformat": 4,
 "nbformat_minor": 5
}
