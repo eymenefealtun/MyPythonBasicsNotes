{
 "cells": [
  {
   "cell_type": "code",
   "execution_count": 1,
   "id": "46982406",
   "metadata": {},
   "outputs": [],
   "source": [
    "#key - value pairing"
   ]
  },
  {
   "cell_type": "code",
   "execution_count": 2,
   "id": "d18f3126",
   "metadata": {},
   "outputs": [],
   "source": [
    "fruitList = [\"banana\", \"apple\"]"
   ]
  },
  {
   "cell_type": "code",
   "execution_count": 3,
   "id": "4fdbc126",
   "metadata": {},
   "outputs": [],
   "source": [
    "calorieList = [100,150]"
   ]
  },
  {
   "cell_type": "code",
   "execution_count": 4,
   "id": "7de0d044",
   "metadata": {},
   "outputs": [
    {
     "data": {
      "text/plain": [
       "'banana'"
      ]
     },
     "execution_count": 4,
     "metadata": {},
     "output_type": "execute_result"
    }
   ],
   "source": [
    "fruitList[0]"
   ]
  },
  {
   "cell_type": "code",
   "execution_count": 6,
   "id": "e7ae9be1",
   "metadata": {},
   "outputs": [
    {
     "data": {
      "text/plain": [
       "100"
      ]
     },
     "execution_count": 6,
     "metadata": {},
     "output_type": "execute_result"
    }
   ],
   "source": [
    "calorieList[0]"
   ]
  },
  {
   "cell_type": "code",
   "execution_count": 14,
   "id": "7cf15016",
   "metadata": {},
   "outputs": [],
   "source": [
    "fitnessDictionary = {\"banana\":100, \"apple\":150} "
   ]
  },
  {
   "cell_type": "code",
   "execution_count": 21,
   "id": "93c91027",
   "metadata": {},
   "outputs": [
    {
     "data": {
      "text/plain": [
       "100"
      ]
     },
     "execution_count": 21,
     "metadata": {},
     "output_type": "execute_result"
    }
   ],
   "source": [
    "fitnessDictionary[\"banana\"]"
   ]
  },
  {
   "cell_type": "code",
   "execution_count": 22,
   "id": "9eca6ba6",
   "metadata": {},
   "outputs": [
    {
     "data": {
      "text/plain": [
       "150"
      ]
     },
     "execution_count": 22,
     "metadata": {},
     "output_type": "execute_result"
    }
   ],
   "source": [
    "fitnessDictionary[\"apple\"]"
   ]
  },
  {
   "cell_type": "code",
   "execution_count": 34,
   "id": "bd275f10",
   "metadata": {},
   "outputs": [],
   "source": [
    "anotherDictionary = {\"3\":100, 3:150} "
   ]
  },
  {
   "cell_type": "code",
   "execution_count": 35,
   "id": "4833e549",
   "metadata": {},
   "outputs": [
    {
     "data": {
      "text/plain": [
       "150"
      ]
     },
     "execution_count": 35,
     "metadata": {},
     "output_type": "execute_result"
    }
   ],
   "source": [
    "anotherDictionary[3]"
   ]
  },
  {
   "cell_type": "code",
   "execution_count": 36,
   "id": "125386ab",
   "metadata": {},
   "outputs": [
    {
     "data": {
      "text/plain": [
       "dict_keys(['banana', 'apple'])"
      ]
     },
     "execution_count": 36,
     "metadata": {},
     "output_type": "execute_result"
    }
   ],
   "source": [
    "fitnessDictionary.keys()"
   ]
  },
  {
   "cell_type": "code",
   "execution_count": 37,
   "id": "9432a27e",
   "metadata": {},
   "outputs": [
    {
     "data": {
      "text/plain": [
       "dict_values([100, 150])"
      ]
     },
     "execution_count": 37,
     "metadata": {},
     "output_type": "execute_result"
    }
   ],
   "source": [
    "fitnessDictionary.values()"
   ]
  },
  {
   "cell_type": "code",
   "execution_count": 38,
   "id": "300e0193",
   "metadata": {},
   "outputs": [
    {
     "data": {
      "text/plain": [
       "dict"
      ]
     },
     "execution_count": 38,
     "metadata": {},
     "output_type": "execute_result"
    }
   ],
   "source": [
    "type(fitnessDictionary)"
   ]
  },
  {
   "cell_type": "code",
   "execution_count": 39,
   "id": "05afb5ab",
   "metadata": {},
   "outputs": [
    {
     "data": {
      "text/plain": [
       "dict_values"
      ]
     },
     "execution_count": 39,
     "metadata": {},
     "output_type": "execute_result"
    }
   ],
   "source": [
    "type(fitnessDictionary.values())"
   ]
  },
  {
   "cell_type": "code",
   "execution_count": 41,
   "id": "cb87bf8f",
   "metadata": {},
   "outputs": [
    {
     "data": {
      "text/plain": [
       "[100, 150]"
      ]
     },
     "execution_count": 41,
     "metadata": {},
     "output_type": "execute_result"
    }
   ],
   "source": [
    "list(fitnessDictionary.values()) ##converted to list"
   ]
  },
  {
   "cell_type": "code",
   "execution_count": 42,
   "id": "8bdb5f6d",
   "metadata": {},
   "outputs": [
    {
     "data": {
      "text/plain": [
       "{'banana': 100, 'apple': 150}"
      ]
     },
     "execution_count": 42,
     "metadata": {},
     "output_type": "execute_result"
    }
   ],
   "source": [
    "fitnessDictionary"
   ]
  },
  {
   "cell_type": "code",
   "execution_count": 43,
   "id": "b7f9f977",
   "metadata": {},
   "outputs": [],
   "source": [
    "fitnessDictionary[\"banana\"] = 200"
   ]
  },
  {
   "cell_type": "code",
   "execution_count": 44,
   "id": "866ddf88",
   "metadata": {},
   "outputs": [
    {
     "data": {
      "text/plain": [
       "{'banana': 200, 'apple': 150}"
      ]
     },
     "execution_count": 44,
     "metadata": {},
     "output_type": "execute_result"
    }
   ],
   "source": [
    "fitnessDictionary"
   ]
  },
  {
   "cell_type": "code",
   "execution_count": 45,
   "id": "10c99c98",
   "metadata": {},
   "outputs": [],
   "source": [
    "fitnessDictionary[\"melon\"] = 300"
   ]
  },
  {
   "cell_type": "code",
   "execution_count": 46,
   "id": "faf36a1c",
   "metadata": {},
   "outputs": [
    {
     "data": {
      "text/plain": [
       "{'banana': 200, 'apple': 150, 'melon': 300}"
      ]
     },
     "execution_count": 46,
     "metadata": {},
     "output_type": "execute_result"
    }
   ],
   "source": [
    "fitnessDictionary"
   ]
  },
  {
   "cell_type": "code",
   "execution_count": 48,
   "id": "068fabc6",
   "metadata": {},
   "outputs": [
    {
     "name": "stdout",
     "output_type": "stream",
     "text": [
      "Help on built-in function get:\n",
      "\n",
      "get(key, default=None, /) method of builtins.dict instance\n",
      "    Return the value for key if key is in the dictionary, else default.\n",
      "\n"
     ]
    }
   ],
   "source": [
    "help(fitnessDictionary.get)"
   ]
  },
  {
   "cell_type": "code",
   "execution_count": 53,
   "id": "1dc1003e",
   "metadata": {},
   "outputs": [
    {
     "data": {
      "text/plain": [
       "150"
      ]
     },
     "execution_count": 53,
     "metadata": {},
     "output_type": "execute_result"
    }
   ],
   "source": [
    "fitnessDictionary.get(\"apple\",200) # second value is the default value if the key couldn't be found"
   ]
  },
  {
   "cell_type": "code",
   "execution_count": 56,
   "id": "77322460",
   "metadata": {},
   "outputs": [],
   "source": [
    "myDictionary = {100:\"a\",101:\"c\",102:\"f\"}"
   ]
  },
  {
   "cell_type": "code",
   "execution_count": 57,
   "id": "0daa0c1f",
   "metadata": {},
   "outputs": [
    {
     "data": {
      "text/plain": [
       "'a'"
      ]
     },
     "execution_count": 57,
     "metadata": {},
     "output_type": "execute_result"
    }
   ],
   "source": [
    "myDictionary[100]"
   ]
  },
  {
   "cell_type": "code",
   "execution_count": 63,
   "id": "2316db4c",
   "metadata": {},
   "outputs": [],
   "source": [
    "myMixedDictionary = {\"key1\":100, \"key2\":3.143, 34:\"hello\", \"key4\": [10,20,30]}"
   ]
  },
  {
   "cell_type": "code",
   "execution_count": 64,
   "id": "01ca60bb",
   "metadata": {},
   "outputs": [
    {
     "data": {
      "text/plain": [
       "3.143"
      ]
     },
     "execution_count": 64,
     "metadata": {},
     "output_type": "execute_result"
    }
   ],
   "source": [
    "myMixedDictionary[\"key2\"]"
   ]
  },
  {
   "cell_type": "code",
   "execution_count": 66,
   "id": "0ccf7481",
   "metadata": {},
   "outputs": [
    {
     "data": {
      "text/plain": [
       "20"
      ]
     },
     "execution_count": 66,
     "metadata": {},
     "output_type": "execute_result"
    }
   ],
   "source": [
    "myMixedDictionary[\"key4\"][1]"
   ]
  },
  {
   "cell_type": "code",
   "execution_count": null,
   "id": "1b5c4cb7",
   "metadata": {},
   "outputs": [],
   "source": []
  }
 ],
 "metadata": {
  "kernelspec": {
   "display_name": "Python 3 (ipykernel)",
   "language": "python",
   "name": "python3"
  },
  "language_info": {
   "codemirror_mode": {
    "name": "ipython",
    "version": 3
   },
   "file_extension": ".py",
   "mimetype": "text/x-python",
   "name": "python",
   "nbconvert_exporter": "python",
   "pygments_lexer": "ipython3",
   "version": "3.11.4"
  }
 },
 "nbformat": 4,
 "nbformat_minor": 5
}
